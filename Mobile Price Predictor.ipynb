{
 "cells": [
  {
   "cell_type": "code",
   "execution_count": 1,
   "id": "d0d2328c",
   "metadata": {},
   "outputs": [],
   "source": [
    "import pandas as pd\n",
    "import numpy as np"
   ]
  },
  {
   "cell_type": "code",
   "execution_count": 2,
   "id": "189e6387",
   "metadata": {},
   "outputs": [],
   "source": [
    "df = pd.read_csv('mobile.csv')"
   ]
  },
  {
   "cell_type": "code",
   "execution_count": 3,
   "id": "9b9ef650",
   "metadata": {},
   "outputs": [],
   "source": [
    "# from pandas_profiling import ProfileReport\n",
    "# prof = ProfileReport(df)\n",
    "# prof.to_file(output_file='output.html')"
   ]
  },
  {
   "cell_type": "code",
   "execution_count": 4,
   "id": "6daa16df",
   "metadata": {},
   "outputs": [
    {
     "data": {
      "text/html": [
       "<div>\n",
       "<style scoped>\n",
       "    .dataframe tbody tr th:only-of-type {\n",
       "        vertical-align: middle;\n",
       "    }\n",
       "\n",
       "    .dataframe tbody tr th {\n",
       "        vertical-align: top;\n",
       "    }\n",
       "\n",
       "    .dataframe thead th {\n",
       "        text-align: right;\n",
       "    }\n",
       "</style>\n",
       "<table border=\"1\" class=\"dataframe\">\n",
       "  <thead>\n",
       "    <tr style=\"text-align: right;\">\n",
       "      <th></th>\n",
       "      <th>title</th>\n",
       "      <th>ram</th>\n",
       "      <th>brand</th>\n",
       "      <th>url</th>\n",
       "      <th>product_id</th>\n",
       "      <th>listing_id</th>\n",
       "      <th>highlights</th>\n",
       "      <th>availability</th>\n",
       "      <th>selling_price</th>\n",
       "      <th>original_price</th>\n",
       "      <th>currency</th>\n",
       "      <th>avg_rating</th>\n",
       "      <th>ratings_count</th>\n",
       "      <th>reviews_count</th>\n",
       "      <th>one_stars_count</th>\n",
       "      <th>two_stars_count</th>\n",
       "      <th>three_stars_count</th>\n",
       "      <th>four_stars_count</th>\n",
       "      <th>five_stars_count</th>\n",
       "    </tr>\n",
       "  </thead>\n",
       "  <tbody>\n",
       "    <tr>\n",
       "      <th>621</th>\n",
       "      <td>realme 3i (Diamond Black, 32 GB)</td>\n",
       "      <td>3 GB RAM</td>\n",
       "      <td>realme</td>\n",
       "      <td>https://www.flipkart.com/realme-3i-diamond-bla...</td>\n",
       "      <td>MOBFGYBQ8NKDAMRB</td>\n",
       "      <td>LSTMOBFGYBQ8NKDAMRBKBHLFK</td>\n",
       "      <td>3 GB RAM | 32 GB ROM | Expandable Upto 256 GB ...</td>\n",
       "      <td>COMING_SOON</td>\n",
       "      <td>8499.0</td>\n",
       "      <td>8999.0</td>\n",
       "      <td>INR</td>\n",
       "      <td>4.4</td>\n",
       "      <td>302288</td>\n",
       "      <td>26522</td>\n",
       "      <td>11297</td>\n",
       "      <td>6032</td>\n",
       "      <td>19957</td>\n",
       "      <td>63204</td>\n",
       "      <td>201798</td>\n",
       "    </tr>\n",
       "    <tr>\n",
       "      <th>36</th>\n",
       "      <td>APPLE iPhone SE (Red, 128 GB)</td>\n",
       "      <td>NaN</td>\n",
       "      <td>APPLE</td>\n",
       "      <td>https://www.flipkart.com/apple-iphone-se-red-1...</td>\n",
       "      <td>MOBFWQ6BJTVFKPEJ</td>\n",
       "      <td>LSTMOBFWQ6BJTVFKPEJI0X38M</td>\n",
       "      <td>128 GB ROM 11.94 cm (4.7 inch) Retina HD Displ...</td>\n",
       "      <td>IN_STOCK</td>\n",
       "      <td>27999.0</td>\n",
       "      <td>44900.0</td>\n",
       "      <td>INR</td>\n",
       "      <td>4.5</td>\n",
       "      <td>147617</td>\n",
       "      <td>11610</td>\n",
       "      <td>6092</td>\n",
       "      <td>2212</td>\n",
       "      <td>6270</td>\n",
       "      <td>24817</td>\n",
       "      <td>108226</td>\n",
       "    </tr>\n",
       "    <tr>\n",
       "      <th>674</th>\n",
       "      <td>Alcatel 5V (Spectrum Black, 32 GB)</td>\n",
       "      <td>3 GB RAM</td>\n",
       "      <td>Alcatel</td>\n",
       "      <td>https://www.flipkart.com/alcatel-5v-spectrum-b...</td>\n",
       "      <td>MOBFERH4DYAFX7QZ</td>\n",
       "      <td>LSTMOBFERH4DYAFX7QZLUSK12</td>\n",
       "      <td>3 GB RAM | 32 GB ROM 15.75 cm (6.2 inch) Displ...</td>\n",
       "      <td>COMING_SOON</td>\n",
       "      <td>12999.0</td>\n",
       "      <td>12999.0</td>\n",
       "      <td>INR</td>\n",
       "      <td>4.3</td>\n",
       "      <td>228</td>\n",
       "      <td>49</td>\n",
       "      <td>16</td>\n",
       "      <td>6</td>\n",
       "      <td>14</td>\n",
       "      <td>50</td>\n",
       "      <td>142</td>\n",
       "    </tr>\n",
       "    <tr>\n",
       "      <th>221</th>\n",
       "      <td>REDMI 10 Prime (Phantom Black, 128 GB)</td>\n",
       "      <td>6 GB RAM</td>\n",
       "      <td>REDMI</td>\n",
       "      <td>https://www.flipkart.com/redmi-10-prime-phanto...</td>\n",
       "      <td>MOBG6RGPPXQFYJ4R</td>\n",
       "      <td>LSTMOBG6RGPPXQFYJ4RY4KKXT</td>\n",
       "      <td>6 GB RAM | 128 GB ROM | Expandable Upto 512 GB...</td>\n",
       "      <td>IN_STOCK</td>\n",
       "      <td>15340.0</td>\n",
       "      <td>16999.0</td>\n",
       "      <td>INR</td>\n",
       "      <td>4.2</td>\n",
       "      <td>2525</td>\n",
       "      <td>187</td>\n",
       "      <td>216</td>\n",
       "      <td>98</td>\n",
       "      <td>214</td>\n",
       "      <td>464</td>\n",
       "      <td>1533</td>\n",
       "    </tr>\n",
       "    <tr>\n",
       "      <th>89</th>\n",
       "      <td>realme Narzo 30 5G (Racing Blue, 128 GB)</td>\n",
       "      <td>6 GB RAM</td>\n",
       "      <td>realme</td>\n",
       "      <td>https://www.flipkart.com/realme-narzo-30-5g-ra...</td>\n",
       "      <td>MOBG3W3GCZ6FN5WJ</td>\n",
       "      <td>LSTMOBG3W3GCZ6FN5WJSSKQ3R</td>\n",
       "      <td>6 GB RAM | 128 GB ROM | Expandable Upto 1 TB 1...</td>\n",
       "      <td>IN_STOCK</td>\n",
       "      <td>16999.0</td>\n",
       "      <td>17999.0</td>\n",
       "      <td>INR</td>\n",
       "      <td>4.3</td>\n",
       "      <td>67625</td>\n",
       "      <td>6022</td>\n",
       "      <td>3522</td>\n",
       "      <td>1528</td>\n",
       "      <td>4904</td>\n",
       "      <td>16163</td>\n",
       "      <td>41508</td>\n",
       "    </tr>\n",
       "  </tbody>\n",
       "</table>\n",
       "</div>"
      ],
      "text/plain": [
       "                                        title       ram    brand  \\\n",
       "621          realme 3i (Diamond Black, 32 GB)  3 GB RAM   realme   \n",
       "36              APPLE iPhone SE (Red, 128 GB)       NaN    APPLE   \n",
       "674        Alcatel 5V (Spectrum Black, 32 GB)  3 GB RAM  Alcatel   \n",
       "221    REDMI 10 Prime (Phantom Black, 128 GB)  6 GB RAM    REDMI   \n",
       "89   realme Narzo 30 5G (Racing Blue, 128 GB)  6 GB RAM   realme   \n",
       "\n",
       "                                                   url        product_id  \\\n",
       "621  https://www.flipkart.com/realme-3i-diamond-bla...  MOBFGYBQ8NKDAMRB   \n",
       "36   https://www.flipkart.com/apple-iphone-se-red-1...  MOBFWQ6BJTVFKPEJ   \n",
       "674  https://www.flipkart.com/alcatel-5v-spectrum-b...  MOBFERH4DYAFX7QZ   \n",
       "221  https://www.flipkart.com/redmi-10-prime-phanto...  MOBG6RGPPXQFYJ4R   \n",
       "89   https://www.flipkart.com/realme-narzo-30-5g-ra...  MOBG3W3GCZ6FN5WJ   \n",
       "\n",
       "                    listing_id  \\\n",
       "621  LSTMOBFGYBQ8NKDAMRBKBHLFK   \n",
       "36   LSTMOBFWQ6BJTVFKPEJI0X38M   \n",
       "674  LSTMOBFERH4DYAFX7QZLUSK12   \n",
       "221  LSTMOBG6RGPPXQFYJ4RY4KKXT   \n",
       "89   LSTMOBG3W3GCZ6FN5WJSSKQ3R   \n",
       "\n",
       "                                            highlights availability  \\\n",
       "621  3 GB RAM | 32 GB ROM | Expandable Upto 256 GB ...  COMING_SOON   \n",
       "36   128 GB ROM 11.94 cm (4.7 inch) Retina HD Displ...     IN_STOCK   \n",
       "674  3 GB RAM | 32 GB ROM 15.75 cm (6.2 inch) Displ...  COMING_SOON   \n",
       "221  6 GB RAM | 128 GB ROM | Expandable Upto 512 GB...     IN_STOCK   \n",
       "89   6 GB RAM | 128 GB ROM | Expandable Upto 1 TB 1...     IN_STOCK   \n",
       "\n",
       "     selling_price  original_price currency  avg_rating  ratings_count  \\\n",
       "621         8499.0          8999.0      INR         4.4         302288   \n",
       "36         27999.0         44900.0      INR         4.5         147617   \n",
       "674        12999.0         12999.0      INR         4.3            228   \n",
       "221        15340.0         16999.0      INR         4.2           2525   \n",
       "89         16999.0         17999.0      INR         4.3          67625   \n",
       "\n",
       "     reviews_count  one_stars_count  two_stars_count  three_stars_count  \\\n",
       "621          26522            11297             6032              19957   \n",
       "36           11610             6092             2212               6270   \n",
       "674             49               16                6                 14   \n",
       "221            187              216               98                214   \n",
       "89            6022             3522             1528               4904   \n",
       "\n",
       "     four_stars_count  five_stars_count  \n",
       "621             63204            201798  \n",
       "36              24817            108226  \n",
       "674                50               142  \n",
       "221               464              1533  \n",
       "89              16163             41508  "
      ]
     },
     "execution_count": 4,
     "metadata": {},
     "output_type": "execute_result"
    }
   ],
   "source": [
    "df.sample(5)"
   ]
  },
  {
   "cell_type": "code",
   "execution_count": 5,
   "id": "c2269a82",
   "metadata": {},
   "outputs": [
    {
     "name": "stdout",
     "output_type": "stream",
     "text": [
      "<class 'pandas.core.frame.DataFrame'>\n",
      "RangeIndex: 847 entries, 0 to 846\n",
      "Data columns (total 19 columns):\n",
      " #   Column             Non-Null Count  Dtype  \n",
      "---  ------             --------------  -----  \n",
      " 0   title              847 non-null    object \n",
      " 1   ram                746 non-null    object \n",
      " 2   brand              847 non-null    object \n",
      " 3   url                847 non-null    object \n",
      " 4   product_id         847 non-null    object \n",
      " 5   listing_id         847 non-null    object \n",
      " 6   highlights         847 non-null    object \n",
      " 7   availability       847 non-null    object \n",
      " 8   selling_price      847 non-null    float64\n",
      " 9   original_price     847 non-null    float64\n",
      " 10  currency           847 non-null    object \n",
      " 11  avg_rating         847 non-null    float64\n",
      " 12  ratings_count      847 non-null    int64  \n",
      " 13  reviews_count      847 non-null    int64  \n",
      " 14  one_stars_count    847 non-null    int64  \n",
      " 15  two_stars_count    847 non-null    int64  \n",
      " 16  three_stars_count  847 non-null    int64  \n",
      " 17  four_stars_count   847 non-null    int64  \n",
      " 18  five_stars_count   847 non-null    int64  \n",
      "dtypes: float64(3), int64(7), object(9)\n",
      "memory usage: 125.9+ KB\n"
     ]
    }
   ],
   "source": [
    "df.info()"
   ]
  },
  {
   "cell_type": "code",
   "execution_count": 6,
   "id": "118f6aab",
   "metadata": {},
   "outputs": [
    {
     "data": {
      "text/plain": [
       "title                  0\n",
       "ram                  101\n",
       "brand                  0\n",
       "url                    0\n",
       "product_id             0\n",
       "listing_id             0\n",
       "highlights             0\n",
       "availability           0\n",
       "selling_price          0\n",
       "original_price         0\n",
       "currency               0\n",
       "avg_rating             0\n",
       "ratings_count          0\n",
       "reviews_count          0\n",
       "one_stars_count        0\n",
       "two_stars_count        0\n",
       "three_stars_count      0\n",
       "four_stars_count       0\n",
       "five_stars_count       0\n",
       "dtype: int64"
      ]
     },
     "execution_count": 6,
     "metadata": {},
     "output_type": "execute_result"
    }
   ],
   "source": [
    "df.isnull().sum()"
   ]
  },
  {
   "cell_type": "code",
   "execution_count": 7,
   "id": "d19520ec",
   "metadata": {},
   "outputs": [],
   "source": [
    "#dropping out cols that are not required to predict the price:\n",
    "df.drop(columns=['url','product_id','listing_id','availability','currency'],inplace=True)"
   ]
  },
  {
   "cell_type": "code",
   "execution_count": 8,
   "id": "ee7026cf",
   "metadata": {},
   "outputs": [
    {
     "data": {
      "text/html": [
       "<div>\n",
       "<style scoped>\n",
       "    .dataframe tbody tr th:only-of-type {\n",
       "        vertical-align: middle;\n",
       "    }\n",
       "\n",
       "    .dataframe tbody tr th {\n",
       "        vertical-align: top;\n",
       "    }\n",
       "\n",
       "    .dataframe thead th {\n",
       "        text-align: right;\n",
       "    }\n",
       "</style>\n",
       "<table border=\"1\" class=\"dataframe\">\n",
       "  <thead>\n",
       "    <tr style=\"text-align: right;\">\n",
       "      <th></th>\n",
       "      <th>title</th>\n",
       "      <th>ram</th>\n",
       "      <th>brand</th>\n",
       "      <th>highlights</th>\n",
       "      <th>selling_price</th>\n",
       "      <th>original_price</th>\n",
       "      <th>avg_rating</th>\n",
       "      <th>ratings_count</th>\n",
       "      <th>reviews_count</th>\n",
       "      <th>one_stars_count</th>\n",
       "      <th>two_stars_count</th>\n",
       "      <th>three_stars_count</th>\n",
       "      <th>four_stars_count</th>\n",
       "      <th>five_stars_count</th>\n",
       "    </tr>\n",
       "  </thead>\n",
       "  <tbody>\n",
       "    <tr>\n",
       "      <th>640</th>\n",
       "      <td>APPLE iPhone 13 Pro Max (Silver, 256 GB)</td>\n",
       "      <td>NaN</td>\n",
       "      <td>APPLE</td>\n",
       "      <td>256 GB ROM 17.02 cm (6.7 inch) Super Retina XD...</td>\n",
       "      <td>139900.0</td>\n",
       "      <td>139900.0</td>\n",
       "      <td>4.7</td>\n",
       "      <td>878</td>\n",
       "      <td>94</td>\n",
       "      <td>50</td>\n",
       "      <td>6</td>\n",
       "      <td>15</td>\n",
       "      <td>51</td>\n",
       "      <td>756</td>\n",
       "    </tr>\n",
       "    <tr>\n",
       "      <th>242</th>\n",
       "      <td>Itel Vision 2 (Gradation Green, 32 GB)</td>\n",
       "      <td>2 GB RAM</td>\n",
       "      <td>Itel</td>\n",
       "      <td>2 GB RAM | 32 GB ROM 16.76 cm (6.6 inch) Displ...</td>\n",
       "      <td>6899.0</td>\n",
       "      <td>8499.0</td>\n",
       "      <td>3.8</td>\n",
       "      <td>229</td>\n",
       "      <td>23</td>\n",
       "      <td>32</td>\n",
       "      <td>18</td>\n",
       "      <td>30</td>\n",
       "      <td>23</td>\n",
       "      <td>126</td>\n",
       "    </tr>\n",
       "    <tr>\n",
       "      <th>230</th>\n",
       "      <td>APPLE iPhone 13 Mini (Midnight, 128 GB)</td>\n",
       "      <td>NaN</td>\n",
       "      <td>APPLE</td>\n",
       "      <td>128 GB ROM 13.72 cm (5.4 inch) Super Retina XD...</td>\n",
       "      <td>59999.0</td>\n",
       "      <td>69900.0</td>\n",
       "      <td>4.6</td>\n",
       "      <td>437</td>\n",
       "      <td>40</td>\n",
       "      <td>17</td>\n",
       "      <td>6</td>\n",
       "      <td>16</td>\n",
       "      <td>57</td>\n",
       "      <td>341</td>\n",
       "    </tr>\n",
       "    <tr>\n",
       "      <th>711</th>\n",
       "      <td>SAMSUNG Galaxy M42 5G (Prism Dot Gray, 128 GB)</td>\n",
       "      <td>6 GB RAM</td>\n",
       "      <td>SAMSUNG</td>\n",
       "      <td>6 GB RAM | 128 GB ROM | Expandable Upto 1 TB 1...</td>\n",
       "      <td>24989.0</td>\n",
       "      <td>24999.0</td>\n",
       "      <td>4.2</td>\n",
       "      <td>1689</td>\n",
       "      <td>162</td>\n",
       "      <td>113</td>\n",
       "      <td>55</td>\n",
       "      <td>116</td>\n",
       "      <td>430</td>\n",
       "      <td>975</td>\n",
       "    </tr>\n",
       "    <tr>\n",
       "      <th>209</th>\n",
       "      <td>Redmi 9A (Nature Green, 32 GB)</td>\n",
       "      <td>3 GB RAM</td>\n",
       "      <td>Mi</td>\n",
       "      <td>3 GB RAM | 32 GB ROM | Expandable Upto 512 GB ...</td>\n",
       "      <td>8085.0</td>\n",
       "      <td>9499.0</td>\n",
       "      <td>4.3</td>\n",
       "      <td>10565</td>\n",
       "      <td>653</td>\n",
       "      <td>547</td>\n",
       "      <td>322</td>\n",
       "      <td>1006</td>\n",
       "      <td>2459</td>\n",
       "      <td>6231</td>\n",
       "    </tr>\n",
       "  </tbody>\n",
       "</table>\n",
       "</div>"
      ],
      "text/plain": [
       "                                              title       ram    brand  \\\n",
       "640        APPLE iPhone 13 Pro Max (Silver, 256 GB)       NaN    APPLE   \n",
       "242          Itel Vision 2 (Gradation Green, 32 GB)  2 GB RAM     Itel   \n",
       "230         APPLE iPhone 13 Mini (Midnight, 128 GB)       NaN    APPLE   \n",
       "711  SAMSUNG Galaxy M42 5G (Prism Dot Gray, 128 GB)  6 GB RAM  SAMSUNG   \n",
       "209                  Redmi 9A (Nature Green, 32 GB)  3 GB RAM       Mi   \n",
       "\n",
       "                                            highlights  selling_price  \\\n",
       "640  256 GB ROM 17.02 cm (6.7 inch) Super Retina XD...       139900.0   \n",
       "242  2 GB RAM | 32 GB ROM 16.76 cm (6.6 inch) Displ...         6899.0   \n",
       "230  128 GB ROM 13.72 cm (5.4 inch) Super Retina XD...        59999.0   \n",
       "711  6 GB RAM | 128 GB ROM | Expandable Upto 1 TB 1...        24989.0   \n",
       "209  3 GB RAM | 32 GB ROM | Expandable Upto 512 GB ...         8085.0   \n",
       "\n",
       "     original_price  avg_rating  ratings_count  reviews_count  \\\n",
       "640        139900.0         4.7            878             94   \n",
       "242          8499.0         3.8            229             23   \n",
       "230         69900.0         4.6            437             40   \n",
       "711         24999.0         4.2           1689            162   \n",
       "209          9499.0         4.3          10565            653   \n",
       "\n",
       "     one_stars_count  two_stars_count  three_stars_count  four_stars_count  \\\n",
       "640               50                6                 15                51   \n",
       "242               32               18                 30                23   \n",
       "230               17                6                 16                57   \n",
       "711              113               55                116               430   \n",
       "209              547              322               1006              2459   \n",
       "\n",
       "     five_stars_count  \n",
       "640               756  \n",
       "242               126  \n",
       "230               341  \n",
       "711               975  \n",
       "209              6231  "
      ]
     },
     "execution_count": 8,
     "metadata": {},
     "output_type": "execute_result"
    }
   ],
   "source": [
    "df.sample(5)"
   ]
  },
  {
   "cell_type": "code",
   "execution_count": 9,
   "id": "26e1ab80",
   "metadata": {},
   "outputs": [
    {
     "data": {
      "text/plain": [
       "realme              114\n",
       "SAMSUNG             109\n",
       "APPLE               101\n",
       "REDMI                83\n",
       "Mi                   75\n",
       "OPPO                 67\n",
       "vivo                 64\n",
       "Infinix              44\n",
       "Tecno                36\n",
       "POCO                 33\n",
       "MOTOROLA             26\n",
       "Itel                 23\n",
       "Micromax             11\n",
       "GIONEE               10\n",
       "Nokia                10\n",
       "Maplin                9\n",
       "LAVA                  8\n",
       "ASUS                  6\n",
       "Coolpad               4\n",
       "Alcatel               3\n",
       "Panasonic             2\n",
       "MarQ By Flipkart      2\n",
       "YU                    2\n",
       "XOLO                  2\n",
       "TCL                   1\n",
       "Jmax                  1\n",
       "KARBONN               1\n",
       "Name: brand, dtype: int64"
      ]
     },
     "execution_count": 9,
     "metadata": {},
     "output_type": "execute_result"
    }
   ],
   "source": [
    "df['brand'].value_counts()"
   ]
  },
  {
   "cell_type": "code",
   "execution_count": 10,
   "id": "68f22131",
   "metadata": {},
   "outputs": [],
   "source": [
    "#working on 'title' column:\n",
    "# fetching out mobile models:\n",
    "df['model'] = df['title'].str.split(\"(\",n=1,expand=True)[0]"
   ]
  },
  {
   "cell_type": "code",
   "execution_count": 11,
   "id": "a7f7940f",
   "metadata": {},
   "outputs": [
    {
     "data": {
      "text/html": [
       "<div>\n",
       "<style scoped>\n",
       "    .dataframe tbody tr th:only-of-type {\n",
       "        vertical-align: middle;\n",
       "    }\n",
       "\n",
       "    .dataframe tbody tr th {\n",
       "        vertical-align: top;\n",
       "    }\n",
       "\n",
       "    .dataframe thead th {\n",
       "        text-align: right;\n",
       "    }\n",
       "</style>\n",
       "<table border=\"1\" class=\"dataframe\">\n",
       "  <thead>\n",
       "    <tr style=\"text-align: right;\">\n",
       "      <th></th>\n",
       "      <th>title</th>\n",
       "      <th>ram</th>\n",
       "      <th>brand</th>\n",
       "      <th>highlights</th>\n",
       "      <th>selling_price</th>\n",
       "      <th>original_price</th>\n",
       "      <th>avg_rating</th>\n",
       "      <th>ratings_count</th>\n",
       "      <th>reviews_count</th>\n",
       "      <th>one_stars_count</th>\n",
       "      <th>two_stars_count</th>\n",
       "      <th>three_stars_count</th>\n",
       "      <th>four_stars_count</th>\n",
       "      <th>five_stars_count</th>\n",
       "      <th>model</th>\n",
       "    </tr>\n",
       "  </thead>\n",
       "  <tbody>\n",
       "    <tr>\n",
       "      <th>0</th>\n",
       "      <td>POCO C31 (Royal Blue, 64 GB)</td>\n",
       "      <td>4 GB RAM</td>\n",
       "      <td>POCO</td>\n",
       "      <td>4 GB RAM | 64 GB ROM | Expandable Upto 512 GB ...</td>\n",
       "      <td>8999.0</td>\n",
       "      <td>11999.0</td>\n",
       "      <td>4.4</td>\n",
       "      <td>34176</td>\n",
       "      <td>1957</td>\n",
       "      <td>1675</td>\n",
       "      <td>838</td>\n",
       "      <td>2678</td>\n",
       "      <td>6707</td>\n",
       "      <td>22278</td>\n",
       "      <td>POCO C31</td>\n",
       "    </tr>\n",
       "    <tr>\n",
       "      <th>1</th>\n",
       "      <td>POCO C31 (Shadow Gray, 64 GB)</td>\n",
       "      <td>4 GB RAM</td>\n",
       "      <td>POCO</td>\n",
       "      <td>4 GB RAM | 64 GB ROM | Expandable Upto 512 GB ...</td>\n",
       "      <td>8999.0</td>\n",
       "      <td>11999.0</td>\n",
       "      <td>4.4</td>\n",
       "      <td>34176</td>\n",
       "      <td>1957</td>\n",
       "      <td>1675</td>\n",
       "      <td>838</td>\n",
       "      <td>2678</td>\n",
       "      <td>6707</td>\n",
       "      <td>22278</td>\n",
       "      <td>POCO C31</td>\n",
       "    </tr>\n",
       "    <tr>\n",
       "      <th>2</th>\n",
       "      <td>realme C35 (Glowing Green, 64 GB)</td>\n",
       "      <td>4 GB RAM</td>\n",
       "      <td>realme</td>\n",
       "      <td>4 GB RAM | 64 GB ROM | Expandable Upto 1 TB 16...</td>\n",
       "      <td>11999.0</td>\n",
       "      <td>13999.0</td>\n",
       "      <td>4.4</td>\n",
       "      <td>8563</td>\n",
       "      <td>590</td>\n",
       "      <td>590</td>\n",
       "      <td>200</td>\n",
       "      <td>487</td>\n",
       "      <td>1303</td>\n",
       "      <td>5983</td>\n",
       "      <td>realme C35</td>\n",
       "    </tr>\n",
       "    <tr>\n",
       "      <th>3</th>\n",
       "      <td>OPPO K10 (Black Carbon, 128 GB)</td>\n",
       "      <td>6 GB RAM</td>\n",
       "      <td>OPPO</td>\n",
       "      <td>6 GB RAM | 128 GB ROM | Expandable Upto 1 TB 1...</td>\n",
       "      <td>14990.0</td>\n",
       "      <td>18999.0</td>\n",
       "      <td>0.0</td>\n",
       "      <td>0</td>\n",
       "      <td>0</td>\n",
       "      <td>0</td>\n",
       "      <td>0</td>\n",
       "      <td>0</td>\n",
       "      <td>0</td>\n",
       "      <td>0</td>\n",
       "      <td>OPPO K10</td>\n",
       "    </tr>\n",
       "    <tr>\n",
       "      <th>4</th>\n",
       "      <td>MOTOROLA G60 (Soft Silver, 128 GB)</td>\n",
       "      <td>6 GB RAM</td>\n",
       "      <td>MOTOROLA</td>\n",
       "      <td>6 GB RAM | 128 GB ROM 17.22 cm (6.78 inch) Ful...</td>\n",
       "      <td>16999.0</td>\n",
       "      <td>21999.0</td>\n",
       "      <td>4.2</td>\n",
       "      <td>85746</td>\n",
       "      <td>8753</td>\n",
       "      <td>7080</td>\n",
       "      <td>2754</td>\n",
       "      <td>6671</td>\n",
       "      <td>19500</td>\n",
       "      <td>49741</td>\n",
       "      <td>MOTOROLA G60</td>\n",
       "    </tr>\n",
       "    <tr>\n",
       "      <th>...</th>\n",
       "      <td>...</td>\n",
       "      <td>...</td>\n",
       "      <td>...</td>\n",
       "      <td>...</td>\n",
       "      <td>...</td>\n",
       "      <td>...</td>\n",
       "      <td>...</td>\n",
       "      <td>...</td>\n",
       "      <td>...</td>\n",
       "      <td>...</td>\n",
       "      <td>...</td>\n",
       "      <td>...</td>\n",
       "      <td>...</td>\n",
       "      <td>...</td>\n",
       "      <td>...</td>\n",
       "    </tr>\n",
       "    <tr>\n",
       "      <th>842</th>\n",
       "      <td>OPPO A37f (Black, 16 GB)</td>\n",
       "      <td>2 GB RAM</td>\n",
       "      <td>OPPO</td>\n",
       "      <td>2 GB RAM | 16 GB ROM | Expandable Upto 128 GB ...</td>\n",
       "      <td>9990.0</td>\n",
       "      <td>10990.0</td>\n",
       "      <td>4.2</td>\n",
       "      <td>11537</td>\n",
       "      <td>1952</td>\n",
       "      <td>891</td>\n",
       "      <td>456</td>\n",
       "      <td>1134</td>\n",
       "      <td>2427</td>\n",
       "      <td>6629</td>\n",
       "      <td>OPPO A37f</td>\n",
       "    </tr>\n",
       "    <tr>\n",
       "      <th>843</th>\n",
       "      <td>KARBONN K9 Kavach (Champagne, 16 GB)</td>\n",
       "      <td>2 GB RAM</td>\n",
       "      <td>KARBONN</td>\n",
       "      <td>2 GB RAM | 16 GB ROM | Expandable Upto 32 GB 1...</td>\n",
       "      <td>7490.0</td>\n",
       "      <td>7490.0</td>\n",
       "      <td>4.1</td>\n",
       "      <td>2897</td>\n",
       "      <td>258</td>\n",
       "      <td>294</td>\n",
       "      <td>131</td>\n",
       "      <td>291</td>\n",
       "      <td>451</td>\n",
       "      <td>1730</td>\n",
       "      <td>KARBONN K9 Kavach</td>\n",
       "    </tr>\n",
       "    <tr>\n",
       "      <th>844</th>\n",
       "      <td>OPPO Reno2 (Ocean Blue, 256 GB)</td>\n",
       "      <td>8 GB RAM</td>\n",
       "      <td>OPPO</td>\n",
       "      <td>8 GB RAM | 256 GB ROM | Expandable Upto 256 GB...</td>\n",
       "      <td>39990.0</td>\n",
       "      <td>39990.0</td>\n",
       "      <td>4.4</td>\n",
       "      <td>1648</td>\n",
       "      <td>199</td>\n",
       "      <td>106</td>\n",
       "      <td>41</td>\n",
       "      <td>101</td>\n",
       "      <td>279</td>\n",
       "      <td>1121</td>\n",
       "      <td>OPPO Reno2</td>\n",
       "    </tr>\n",
       "    <tr>\n",
       "      <th>845</th>\n",
       "      <td>SAMSUNG Galaxy A53 (Light Blue, 128 GB)</td>\n",
       "      <td>8 GB RAM</td>\n",
       "      <td>SAMSUNG</td>\n",
       "      <td>8 GB RAM | 128 GB ROM | Expandable Upto 1 TB 1...</td>\n",
       "      <td>35999.0</td>\n",
       "      <td>40999.0</td>\n",
       "      <td>0.0</td>\n",
       "      <td>0</td>\n",
       "      <td>0</td>\n",
       "      <td>0</td>\n",
       "      <td>0</td>\n",
       "      <td>0</td>\n",
       "      <td>0</td>\n",
       "      <td>0</td>\n",
       "      <td>SAMSUNG Galaxy A53</td>\n",
       "    </tr>\n",
       "    <tr>\n",
       "      <th>846</th>\n",
       "      <td>YU Ace (Rose Gold, 16 GB)</td>\n",
       "      <td>2 GB RAM</td>\n",
       "      <td>YU</td>\n",
       "      <td>2 GB RAM | 16 GB ROM | Expandable Upto 128 GB ...</td>\n",
       "      <td>7999.0</td>\n",
       "      <td>7999.0</td>\n",
       "      <td>4.1</td>\n",
       "      <td>66103</td>\n",
       "      <td>8270</td>\n",
       "      <td>5079</td>\n",
       "      <td>3100</td>\n",
       "      <td>8228</td>\n",
       "      <td>15374</td>\n",
       "      <td>34322</td>\n",
       "      <td>YU Ace</td>\n",
       "    </tr>\n",
       "  </tbody>\n",
       "</table>\n",
       "<p>847 rows × 15 columns</p>\n",
       "</div>"
      ],
      "text/plain": [
       "                                       title       ram     brand  \\\n",
       "0               POCO C31 (Royal Blue, 64 GB)  4 GB RAM      POCO   \n",
       "1              POCO C31 (Shadow Gray, 64 GB)  4 GB RAM      POCO   \n",
       "2          realme C35 (Glowing Green, 64 GB)  4 GB RAM    realme   \n",
       "3            OPPO K10 (Black Carbon, 128 GB)  6 GB RAM      OPPO   \n",
       "4         MOTOROLA G60 (Soft Silver, 128 GB)  6 GB RAM  MOTOROLA   \n",
       "..                                       ...       ...       ...   \n",
       "842                 OPPO A37f (Black, 16 GB)  2 GB RAM      OPPO   \n",
       "843     KARBONN K9 Kavach (Champagne, 16 GB)  2 GB RAM   KARBONN   \n",
       "844          OPPO Reno2 (Ocean Blue, 256 GB)  8 GB RAM      OPPO   \n",
       "845  SAMSUNG Galaxy A53 (Light Blue, 128 GB)  8 GB RAM   SAMSUNG   \n",
       "846                YU Ace (Rose Gold, 16 GB)  2 GB RAM        YU   \n",
       "\n",
       "                                            highlights  selling_price  \\\n",
       "0    4 GB RAM | 64 GB ROM | Expandable Upto 512 GB ...         8999.0   \n",
       "1    4 GB RAM | 64 GB ROM | Expandable Upto 512 GB ...         8999.0   \n",
       "2    4 GB RAM | 64 GB ROM | Expandable Upto 1 TB 16...        11999.0   \n",
       "3    6 GB RAM | 128 GB ROM | Expandable Upto 1 TB 1...        14990.0   \n",
       "4    6 GB RAM | 128 GB ROM 17.22 cm (6.78 inch) Ful...        16999.0   \n",
       "..                                                 ...            ...   \n",
       "842  2 GB RAM | 16 GB ROM | Expandable Upto 128 GB ...         9990.0   \n",
       "843  2 GB RAM | 16 GB ROM | Expandable Upto 32 GB 1...         7490.0   \n",
       "844  8 GB RAM | 256 GB ROM | Expandable Upto 256 GB...        39990.0   \n",
       "845  8 GB RAM | 128 GB ROM | Expandable Upto 1 TB 1...        35999.0   \n",
       "846  2 GB RAM | 16 GB ROM | Expandable Upto 128 GB ...         7999.0   \n",
       "\n",
       "     original_price  avg_rating  ratings_count  reviews_count  \\\n",
       "0           11999.0         4.4          34176           1957   \n",
       "1           11999.0         4.4          34176           1957   \n",
       "2           13999.0         4.4           8563            590   \n",
       "3           18999.0         0.0              0              0   \n",
       "4           21999.0         4.2          85746           8753   \n",
       "..              ...         ...            ...            ...   \n",
       "842         10990.0         4.2          11537           1952   \n",
       "843          7490.0         4.1           2897            258   \n",
       "844         39990.0         4.4           1648            199   \n",
       "845         40999.0         0.0              0              0   \n",
       "846          7999.0         4.1          66103           8270   \n",
       "\n",
       "     one_stars_count  two_stars_count  three_stars_count  four_stars_count  \\\n",
       "0               1675              838               2678              6707   \n",
       "1               1675              838               2678              6707   \n",
       "2                590              200                487              1303   \n",
       "3                  0                0                  0                 0   \n",
       "4               7080             2754               6671             19500   \n",
       "..               ...              ...                ...               ...   \n",
       "842              891              456               1134              2427   \n",
       "843              294              131                291               451   \n",
       "844              106               41                101               279   \n",
       "845                0                0                  0                 0   \n",
       "846             5079             3100               8228             15374   \n",
       "\n",
       "     five_stars_count                model  \n",
       "0               22278            POCO C31   \n",
       "1               22278            POCO C31   \n",
       "2                5983          realme C35   \n",
       "3                   0            OPPO K10   \n",
       "4               49741        MOTOROLA G60   \n",
       "..                ...                  ...  \n",
       "842              6629           OPPO A37f   \n",
       "843              1730   KARBONN K9 Kavach   \n",
       "844              1121          OPPO Reno2   \n",
       "845                 0  SAMSUNG Galaxy A53   \n",
       "846             34322              YU Ace   \n",
       "\n",
       "[847 rows x 15 columns]"
      ]
     },
     "execution_count": 11,
     "metadata": {},
     "output_type": "execute_result"
    }
   ],
   "source": [
    "df"
   ]
  },
  {
   "cell_type": "code",
   "execution_count": 12,
   "id": "0f9b03c2",
   "metadata": {},
   "outputs": [],
   "source": [
    "#fetching out colors:\n",
    "df['color'] = df['title'].str.split(\"(\",n=1,expand=True)[1].str.split(\",\",n=1,expand=True)[0]"
   ]
  },
  {
   "cell_type": "code",
   "execution_count": 13,
   "id": "07cf7812",
   "metadata": {},
   "outputs": [
    {
     "name": "stdout",
     "output_type": "stream",
     "text": [
      "<class 'pandas.core.frame.DataFrame'>\n",
      "RangeIndex: 847 entries, 0 to 846\n",
      "Data columns (total 16 columns):\n",
      " #   Column             Non-Null Count  Dtype  \n",
      "---  ------             --------------  -----  \n",
      " 0   title              847 non-null    object \n",
      " 1   ram                746 non-null    object \n",
      " 2   brand              847 non-null    object \n",
      " 3   highlights         847 non-null    object \n",
      " 4   selling_price      847 non-null    float64\n",
      " 5   original_price     847 non-null    float64\n",
      " 6   avg_rating         847 non-null    float64\n",
      " 7   ratings_count      847 non-null    int64  \n",
      " 8   reviews_count      847 non-null    int64  \n",
      " 9   one_stars_count    847 non-null    int64  \n",
      " 10  two_stars_count    847 non-null    int64  \n",
      " 11  three_stars_count  847 non-null    int64  \n",
      " 12  four_stars_count   847 non-null    int64  \n",
      " 13  five_stars_count   847 non-null    int64  \n",
      " 14  model              847 non-null    object \n",
      " 15  color              847 non-null    object \n",
      "dtypes: float64(3), int64(7), object(6)\n",
      "memory usage: 106.0+ KB\n"
     ]
    }
   ],
   "source": [
    "df.info()"
   ]
  },
  {
   "cell_type": "code",
   "execution_count": 14,
   "id": "133b3392",
   "metadata": {},
   "outputs": [],
   "source": [
    "df['ram'] = df['ram'].str.split(\" \",n=1,expand=True)[0]"
   ]
  },
  {
   "cell_type": "code",
   "execution_count": 15,
   "id": "819a595a",
   "metadata": {},
   "outputs": [],
   "source": [
    "#filling out missing values in ram:\n",
    "df['ram'].fillna(df['ram'].mode()[0],inplace=True)"
   ]
  },
  {
   "cell_type": "code",
   "execution_count": 16,
   "id": "f94d4d3c",
   "metadata": {},
   "outputs": [],
   "source": [
    "#converting datatype of ram into int:\n",
    "df['ram'] = df['ram'].astype(int)"
   ]
  },
  {
   "cell_type": "code",
   "execution_count": 17,
   "id": "5b300ba6",
   "metadata": {},
   "outputs": [
    {
     "name": "stdout",
     "output_type": "stream",
     "text": [
      "<class 'pandas.core.frame.DataFrame'>\n",
      "RangeIndex: 847 entries, 0 to 846\n",
      "Data columns (total 16 columns):\n",
      " #   Column             Non-Null Count  Dtype  \n",
      "---  ------             --------------  -----  \n",
      " 0   title              847 non-null    object \n",
      " 1   ram                847 non-null    int32  \n",
      " 2   brand              847 non-null    object \n",
      " 3   highlights         847 non-null    object \n",
      " 4   selling_price      847 non-null    float64\n",
      " 5   original_price     847 non-null    float64\n",
      " 6   avg_rating         847 non-null    float64\n",
      " 7   ratings_count      847 non-null    int64  \n",
      " 8   reviews_count      847 non-null    int64  \n",
      " 9   one_stars_count    847 non-null    int64  \n",
      " 10  two_stars_count    847 non-null    int64  \n",
      " 11  three_stars_count  847 non-null    int64  \n",
      " 12  four_stars_count   847 non-null    int64  \n",
      " 13  five_stars_count   847 non-null    int64  \n",
      " 14  model              847 non-null    object \n",
      " 15  color              847 non-null    object \n",
      "dtypes: float64(3), int32(1), int64(7), object(5)\n",
      "memory usage: 102.7+ KB\n"
     ]
    }
   ],
   "source": [
    "df.info()"
   ]
  },
  {
   "cell_type": "code",
   "execution_count": 18,
   "id": "fd18054f",
   "metadata": {},
   "outputs": [],
   "source": [
    "import seaborn as sns\n",
    "import matplotlib.pyplot as plt"
   ]
  },
  {
   "cell_type": "code",
   "execution_count": 19,
   "id": "094c6097",
   "metadata": {},
   "outputs": [
    {
     "name": "stderr",
     "output_type": "stream",
     "text": [
      "C:\\Users\\Neeraj\\AppData\\Local\\Programs\\Python\\Python310\\lib\\site-packages\\seaborn\\distributions.py:2619: FutureWarning: `distplot` is a deprecated function and will be removed in a future version. Please adapt your code to use either `displot` (a figure-level function with similar flexibility) or `histplot` (an axes-level function for histograms).\n",
      "  warnings.warn(msg, FutureWarning)\n"
     ]
    },
    {
     "data": {
      "text/plain": [
       "<AxesSubplot:xlabel='original_price', ylabel='Density'>"
      ]
     },
     "execution_count": 19,
     "metadata": {},
     "output_type": "execute_result"
    },
    {
     "data": {
      "image/png": "[encoded data removed]",
      "text/plain": [
       "<Figure size 432x288 with 1 Axes>"
      ]
     },
     "metadata": {
      "needs_background": "light"
     },
     "output_type": "display_data"
    }
   ],
   "source": [
    "sns.distplot(np.log(df['original_price']))"
   ]
  },
  {
   "cell_type": "code",
   "execution_count": 20,
   "id": "7992c183",
   "metadata": {},
   "outputs": [
    {
     "data": {
      "text/plain": [
       "<function matplotlib.pyplot.show(close=None, block=None)>"
      ]
     },
     "execution_count": 20,
     "metadata": {},
     "output_type": "execute_result"
    },
    {
     "data": {
      "image/png": "[encoded data removed]",
      "text/plain": [
       "<Figure size 432x288 with 1 Axes>"
      ]
     },
     "metadata": {
      "needs_background": "light"
     },
     "output_type": "display_data"
    }
   ],
   "source": [
    "sns.barplot(x=df['ram'], y=df['original_price'])\n",
    "plt.xticks(rotation='vertical')\n",
    "plt.show"
   ]
  },
  {
   "cell_type": "code",
   "execution_count": 21,
   "id": "3240da21",
   "metadata": {},
   "outputs": [
    {
     "data": {
      "text/plain": [
       "<AxesSubplot:>"
      ]
     },
     "execution_count": 21,
     "metadata": {},
     "output_type": "execute_result"
    },
    {
     "data": {
      "image/png": "[encoded data removed]",
      "text/plain": [
       "<Figure size 432x288 with 1 Axes>"
      ]
     },
     "metadata": {
      "needs_background": "light"
     },
     "output_type": "display_data"
    }
   ],
   "source": [
    "df['brand'].value_counts().plot(kind='bar')"
   ]
  },
  {
   "cell_type": "code",
   "execution_count": 22,
   "id": "d1759ed3",
   "metadata": {},
   "outputs": [
    {
     "data": {
      "text/plain": [
       "<function matplotlib.pyplot.show(close=None, block=None)>"
      ]
     },
     "execution_count": 22,
     "metadata": {},
     "output_type": "execute_result"
    },
    {
     "data": {
      "image/png": "[encoded data removed]",
      "text/plain": [
       "<Figure size 432x288 with 1 Axes>"
      ]
     },
     "metadata": {
      "needs_background": "light"
     },
     "output_type": "display_data"
    }
   ],
   "source": [
    "sns.barplot(x=df['brand'], y=df['original_price'])\n",
    "plt.xticks(rotation='vertical')\n",
    "plt.show"
   ]
  },
  {
   "cell_type": "code",
   "execution_count": 23,
   "id": "ce382374",
   "metadata": {},
   "outputs": [],
   "source": [
    "#extracting other features:\n",
    "#rom of each smartphone:\n",
    "temp_df = df['title'].str.split(\",\",n=2,expand=True)[1]"
   ]
  },
  {
   "cell_type": "code",
   "execution_count": 24,
   "id": "09a3db72",
   "metadata": {},
   "outputs": [],
   "source": [
    "temp_df = temp_df.str.replace(\"TB\",\"000\")\n",
    "temp_df = temp_df.str.replace(\"GB\",\"\")\n",
    "temp_df = temp_df.str.replace(\" \",\"\")"
   ]
  },
  {
   "cell_type": "code",
   "execution_count": 25,
   "id": "3ed836f5",
   "metadata": {},
   "outputs": [
    {
     "data": {
      "text/plain": [
       "128)              369\n",
       "64)               240\n",
       "32)               135\n",
       "256)               57\n",
       "16)                22\n",
       "512)               12\n",
       "1000)               5\n",
       "8)                  4\n",
       "32)(2RAM)           2\n",
       "ChocolateBrown      1\n",
       "Name: 1, dtype: int64"
      ]
     },
     "execution_count": 25,
     "metadata": {},
     "output_type": "execute_result"
    }
   ],
   "source": [
    "temp_df.value_counts()"
   ]
  },
  {
   "cell_type": "code",
   "execution_count": 26,
   "id": "db44324f",
   "metadata": {},
   "outputs": [],
   "source": [
    "df['rom'] = temp_df.str.split(\")\",n=2,expand=True)[0]"
   ]
  },
  {
   "cell_type": "code",
   "execution_count": 27,
   "id": "f2e903d0",
   "metadata": {},
   "outputs": [
    {
     "data": {
      "text/plain": [
       "128               369\n",
       "64                240\n",
       "32                137\n",
       "256                57\n",
       "16                 22\n",
       "512                12\n",
       "1000                5\n",
       "8                   4\n",
       "ChocolateBrown      1\n",
       "Name: rom, dtype: int64"
      ]
     },
     "execution_count": 27,
     "metadata": {},
     "output_type": "execute_result"
    }
   ],
   "source": [
    "df['rom'].value_counts()"
   ]
  },
  {
   "cell_type": "code",
   "execution_count": 28,
   "id": "9819880c",
   "metadata": {},
   "outputs": [
    {
     "data": {
      "text/plain": [
       "0"
      ]
     },
     "execution_count": 28,
     "metadata": {},
     "output_type": "execute_result"
    }
   ],
   "source": [
    "df['rom'].isnull().sum()"
   ]
  },
  {
   "cell_type": "code",
   "execution_count": 29,
   "id": "d5807d25",
   "metadata": {},
   "outputs": [
    {
     "data": {
      "text/plain": [
       "Int64Index([688], dtype='int64')"
      ]
     },
     "execution_count": 29,
     "metadata": {},
     "output_type": "execute_result"
    }
   ],
   "source": [
    "#fetching the index number:\n",
    "df[df['rom']=='ChocolateBrown'].index"
   ]
  },
  {
   "cell_type": "code",
   "execution_count": 30,
   "id": "9a5541b5",
   "metadata": {},
   "outputs": [
    {
     "data": {
      "text/plain": [
       "'XOLO ERA 1X -4G with VoLTE (Gold, Chocolate Brown, 8 GB)'"
      ]
     },
     "execution_count": 30,
     "metadata": {},
     "output_type": "execute_result"
    }
   ],
   "source": [
    "df['title'][688]"
   ]
  },
  {
   "cell_type": "code",
   "execution_count": 31,
   "id": "db417720",
   "metadata": {},
   "outputs": [],
   "source": [
    "#replacing chocolatebrown to the mode of ram:\n",
    "df['rom'] = df['rom'].str.replace(\"ChocolateBrown\",'8')"
   ]
  },
  {
   "cell_type": "code",
   "execution_count": 32,
   "id": "01e94b6a",
   "metadata": {},
   "outputs": [
    {
     "data": {
      "text/plain": [
       "128     369\n",
       "64      240\n",
       "32      137\n",
       "256      57\n",
       "16       22\n",
       "512      12\n",
       "8         5\n",
       "1000      5\n",
       "Name: rom, dtype: int64"
      ]
     },
     "execution_count": 32,
     "metadata": {},
     "output_type": "execute_result"
    }
   ],
   "source": [
    "df['rom'].value_counts()"
   ]
  },
  {
   "cell_type": "code",
   "execution_count": 33,
   "id": "5236714d",
   "metadata": {},
   "outputs": [],
   "source": [
    "#converting to int:\n",
    "df['rom'] = df['rom'].astype(int)"
   ]
  },
  {
   "cell_type": "code",
   "execution_count": 34,
   "id": "30eb1e22",
   "metadata": {},
   "outputs": [
    {
     "name": "stdout",
     "output_type": "stream",
     "text": [
      "<class 'pandas.core.frame.DataFrame'>\n",
      "RangeIndex: 847 entries, 0 to 846\n",
      "Data columns (total 17 columns):\n",
      " #   Column             Non-Null Count  Dtype  \n",
      "---  ------             --------------  -----  \n",
      " 0   title              847 non-null    object \n",
      " 1   ram                847 non-null    int32  \n",
      " 2   brand              847 non-null    object \n",
      " 3   highlights         847 non-null    object \n",
      " 4   selling_price      847 non-null    float64\n",
      " 5   original_price     847 non-null    float64\n",
      " 6   avg_rating         847 non-null    float64\n",
      " 7   ratings_count      847 non-null    int64  \n",
      " 8   reviews_count      847 non-null    int64  \n",
      " 9   one_stars_count    847 non-null    int64  \n",
      " 10  two_stars_count    847 non-null    int64  \n",
      " 11  three_stars_count  847 non-null    int64  \n",
      " 12  four_stars_count   847 non-null    int64  \n",
      " 13  five_stars_count   847 non-null    int64  \n",
      " 14  model              847 non-null    object \n",
      " 15  color              847 non-null    object \n",
      " 16  rom                847 non-null    int32  \n",
      "dtypes: float64(3), int32(2), int64(7), object(5)\n",
      "memory usage: 106.0+ KB\n"
     ]
    }
   ],
   "source": [
    "df.info()"
   ]
  },
  {
   "cell_type": "code",
   "execution_count": 35,
   "id": "45fb3106",
   "metadata": {
    "scrolled": true
   },
   "outputs": [
    {
     "data": {
      "text/plain": [
       "<function matplotlib.pyplot.show(close=None, block=None)>"
      ]
     },
     "execution_count": 35,
     "metadata": {},
     "output_type": "execute_result"
    },
    {
     "data": {
      "image/png": "[encoded data removed]",
      "text/plain": [
       "<Figure size 432x288 with 1 Axes>"
      ]
     },
     "metadata": {
      "needs_background": "light"
     },
     "output_type": "display_data"
    }
   ],
   "source": [
    "sns.barplot(x=df['rom'], y=df['original_price'])\n",
    "plt.xticks(rotation='vertical')\n",
    "plt.show"
   ]
  },
  {
   "cell_type": "code",
   "execution_count": 36,
   "id": "850d9883",
   "metadata": {},
   "outputs": [
    {
     "data": {
      "text/plain": [
       "'4 GB RAM | 64 GB ROM | Expandable Upto 256 GB 16.54 cm (6.51 inch) HD+ Display 13MP + 2MP + 2MP | 16MP Front Camera 5000 mAh Lithium-ion Polymer Battery MediaTek Helio P35 Processor'"
      ]
     },
     "execution_count": 36,
     "metadata": {},
     "output_type": "execute_result"
    }
   ],
   "source": [
    "df['highlights'][55]"
   ]
  },
  {
   "cell_type": "code",
   "execution_count": 37,
   "id": "31af5864",
   "metadata": {},
   "outputs": [],
   "source": [
    "temp_df1 = df['highlights'].str.split(\"ROM\",n=2,expand=True)"
   ]
  },
  {
   "cell_type": "code",
   "execution_count": 38,
   "id": "de1b86df",
   "metadata": {},
   "outputs": [
    {
     "data": {
      "text/plain": [
       "0       | Expandable Upto 512 GB 16.59 cm (6.53 inch)...\n",
       "1       | Expandable Upto 512 GB 16.59 cm (6.53 inch)...\n",
       "2       | Expandable Upto 1 TB 16.76 cm (6.6 inch) Fu...\n",
       "3       | Expandable Upto 1 TB 16.74 cm (6.59 inch) F...\n",
       "4       17.22 cm (6.78 inch) Full HD+ Display 108MP +...\n",
       "                             ...                        \n",
       "842     | Expandable Upto 128 GB 12.7 cm (5 inch) HD ...\n",
       "843     | Expandable Upto 32 GB 12.7 cm (5 inch) HD D...\n",
       "844     | Expandable Upto 256 GB 16.51 cm (6.5 inch) ...\n",
       "845     | Expandable Upto 1 TB 16.51 cm (6.5 inch) Fu...\n",
       "846     | Expandable Upto 128 GB 13.84 cm (5.45 inch)...\n",
       "Name: 1, Length: 847, dtype: object"
      ]
     },
     "execution_count": 38,
     "metadata": {},
     "output_type": "execute_result"
    }
   ],
   "source": [
    "temp_df1[1]"
   ]
  },
  {
   "cell_type": "code",
   "execution_count": 39,
   "id": "8856a3ae",
   "metadata": {},
   "outputs": [],
   "source": [
    "#fetching out expandable memory:\n",
    "df['expandable'] = temp_df1[1].str.replace(\" TB\",\"000 GB\")"
   ]
  },
  {
   "cell_type": "code",
   "execution_count": 40,
   "id": "1dcf1bd8",
   "metadata": {},
   "outputs": [],
   "source": [
    "df['expandable'] = df['expandable'].str.split(\"GB\",n=2,expand=True)[0]"
   ]
  },
  {
   "cell_type": "code",
   "execution_count": 41,
   "id": "db74b645",
   "metadata": {},
   "outputs": [],
   "source": [
    "df['expandable'] = df['expandable'].str.split(\" \",n=4,expand=True)[4]"
   ]
  },
  {
   "cell_type": "code",
   "execution_count": 42,
   "id": "71da096b",
   "metadata": {},
   "outputs": [
    {
     "data": {
      "text/plain": [
       "0"
      ]
     },
     "execution_count": 42,
     "metadata": {},
     "output_type": "execute_result"
    }
   ],
   "source": [
    "df['expandable'].isnull().sum()"
   ]
  },
  {
   "cell_type": "code",
   "execution_count": 43,
   "id": "f791cd30",
   "metadata": {},
   "outputs": [],
   "source": [
    "df['expandable'] = df['expandable'].str.split(\")\",n=2,expand=True)[0]"
   ]
  },
  {
   "cell_type": "code",
   "execution_count": 44,
   "id": "dbd29b09",
   "metadata": {},
   "outputs": [],
   "source": [
    "df['expandable'] = df['expandable'].str.replace(\"inch\",'0')"
   ]
  },
  {
   "cell_type": "code",
   "execution_count": 45,
   "id": "734547d6",
   "metadata": {},
   "outputs": [],
   "source": [
    "df['expandable'] = df['expandable'].astype(int)"
   ]
  },
  {
   "cell_type": "code",
   "execution_count": 46,
   "id": "b81978eb",
   "metadata": {},
   "outputs": [
    {
     "data": {
      "text/plain": [
       "0       308\n",
       "256     211\n",
       "1000    168\n",
       "512     105\n",
       "128      34\n",
       "32        9\n",
       "64        8\n",
       "12        2\n",
       "2000      1\n",
       "400       1\n",
       "Name: expandable, dtype: int64"
      ]
     },
     "execution_count": 46,
     "metadata": {},
     "output_type": "execute_result"
    }
   ],
   "source": [
    "df['expandable'].value_counts()"
   ]
  },
  {
   "cell_type": "code",
   "execution_count": 47,
   "id": "31202c46",
   "metadata": {},
   "outputs": [
    {
     "data": {
      "text/plain": [
       "'2 GB RAM | 32 GB ROM | Expandable Upto 256 GB 16.51 cm (6.5 inch) HD+ Display 8MP Rear Camera | 5MP Front Camera 5000 mAh Battery MediaTek Helio G35 Processor'"
      ]
     },
     "execution_count": 47,
     "metadata": {},
     "output_type": "execute_result"
    }
   ],
   "source": [
    "df['highlights'][5]"
   ]
  },
  {
   "cell_type": "code",
   "execution_count": 48,
   "id": "ea819871",
   "metadata": {},
   "outputs": [],
   "source": [
    "#fetching out size of the phone:\n",
    "df['size(inch)'] = df['highlights'].str.split(\"(\",n=2,expand=True)[1]"
   ]
  },
  {
   "cell_type": "code",
   "execution_count": 49,
   "id": "a6081734",
   "metadata": {},
   "outputs": [],
   "source": [
    "df['size(inch)'] = df['size(inch)'].str.split(\" \",n=3,expand=True)[0]"
   ]
  },
  {
   "cell_type": "code",
   "execution_count": 50,
   "id": "a3ec8983",
   "metadata": {},
   "outputs": [
    {
     "data": {
      "text/plain": [
       "0"
      ]
     },
     "execution_count": 50,
     "metadata": {},
     "output_type": "execute_result"
    }
   ],
   "source": [
    "df['size(inch)'].isnull().sum()"
   ]
  },
  {
   "cell_type": "code",
   "execution_count": 51,
   "id": "9fa36ac6",
   "metadata": {},
   "outputs": [],
   "source": [
    "df['size(inch)'] = df['size(inch)'].astype(float)"
   ]
  },
  {
   "cell_type": "code",
   "execution_count": 52,
   "id": "ff93f6c9",
   "metadata": {},
   "outputs": [
    {
     "data": {
      "text/plain": [
       "6.500     139\n",
       "6.100      63\n",
       "6.430      63\n",
       "6.600      60\n",
       "6.670      54\n",
       "6.400      45\n",
       "6.520      44\n",
       "6.530      36\n",
       "6.700      32\n",
       "6.510      28\n",
       "5.400      22\n",
       "6.780      18\n",
       "6.440      18\n",
       "6.560      18\n",
       "5.000      16\n",
       "5.450      15\n",
       "6.220      15\n",
       "6.550      14\n",
       "6.580      13\n",
       "4.700      13\n",
       "6.950      12\n",
       "6.200      11\n",
       "6.820      10\n",
       "6.300      10\n",
       "6.800       9\n",
       "6.260       8\n",
       "5.700       6\n",
       "5.990       5\n",
       "6.390       5\n",
       "6.620       5\n",
       "6.350       5\n",
       "5.500       5\n",
       "6.088       4\n",
       "5.800       3\n",
       "5.600       3\n",
       "6.590       3\n",
       "5.710       2\n",
       "6.470       2\n",
       "7.000       2\n",
       "6.570       2\n",
       "5.920       2\n",
       "6.515       2\n",
       "6.080       1\n",
       "6.650       1\n",
       "66.000      1\n",
       "6.000       1\n",
       "5.930       1\n",
       "Name: size(inch), dtype: int64"
      ]
     },
     "execution_count": 52,
     "metadata": {},
     "output_type": "execute_result"
    }
   ],
   "source": [
    "df['size(inch)'].value_counts()"
   ]
  },
  {
   "cell_type": "code",
   "execution_count": 53,
   "id": "49c6d083",
   "metadata": {},
   "outputs": [
    {
     "data": {
      "text/plain": [
       "'8 GB RAM | 128 GB ROM | Expandable Upto 1 TB 16.51 cm (6.5 inch) Full HD+ Display 64MP + 2MP + 2MP | 16MP Front Camera 5000 mAh Battery MediaTek Dimensity 810 5G Processor 33 W Charger'"
      ]
     },
     "execution_count": 53,
     "metadata": {},
     "output_type": "execute_result"
    }
   ],
   "source": [
    "df['highlights'][166]"
   ]
  },
  {
   "cell_type": "code",
   "execution_count": 54,
   "id": "586e27b3",
   "metadata": {},
   "outputs": [],
   "source": [
    "#fetching out rear and front camera details:\n",
    "camera = df['highlights'].str.split(\"Display\",n=2,expand=True)[1]"
   ]
  },
  {
   "cell_type": "code",
   "execution_count": 55,
   "id": "1a4ca748",
   "metadata": {},
   "outputs": [
    {
     "data": {
      "text/plain": [
       "0       13MP + 2MP + 2MP | 5MP Front Camera 5000 mAh ...\n",
       "1       13MP + 2MP + 2MP | 5MP Front Camera 5000 mAh ...\n",
       "2       50MP + 2MP + 0.3MP | 8MP Front Camera 5000 mA...\n",
       "3       50MP + 2MP + 2MP | 16MP Front Camera 5000 mAh...\n",
       "4       108MP + 8MP + 2MP | 32MP Front Camera 6000 mA...\n",
       "                             ...                        \n",
       "842     8MP Rear Camera | 5MP Front Camera 2630 mAh B...\n",
       "843                     5MP Rear Camera 2300 mAh Battery\n",
       "844     48MP + 8MP + 13MP + 2MP | 16MP Front Camera 4...\n",
       "845     64MP + 12MP + 5MP + 5MP | 32MP Front Camera 5...\n",
       "846     13MP Rear Camera | 5MP Front Camera 4000 mAh ...\n",
       "Name: 1, Length: 847, dtype: object"
      ]
     },
     "execution_count": 55,
     "metadata": {},
     "output_type": "execute_result"
    }
   ],
   "source": [
    "camera"
   ]
  },
  {
   "cell_type": "code",
   "execution_count": 56,
   "id": "9e96e4ff",
   "metadata": {},
   "outputs": [],
   "source": [
    "df['camera'] = camera.str.split(\"|\",n=2,expand=True)[0]"
   ]
  },
  {
   "cell_type": "code",
   "execution_count": 57,
   "id": "0c47ddbf",
   "metadata": {},
   "outputs": [],
   "source": [
    "rear = df['camera'].str.split(\" \",n=4,expand=True)"
   ]
  },
  {
   "cell_type": "code",
   "execution_count": 58,
   "id": "282fa829",
   "metadata": {
    "scrolled": false
   },
   "outputs": [],
   "source": [
    "df['rear_camera'] = rear[1].str.split(\"MP\",n=2,expand=True)[0]"
   ]
  },
  {
   "cell_type": "code",
   "execution_count": 59,
   "id": "040ebe92",
   "metadata": {},
   "outputs": [
    {
     "data": {
      "text/plain": [
       "13     180\n",
       "48     158\n",
       "64     145\n",
       "12     126\n",
       "50     108\n",
       "8       43\n",
       "108     34\n",
       "16      27\n",
       "5       19\n",
       "25       3\n",
       "2        2\n",
       "32       2\n",
       "Name: rear_camera, dtype: int64"
      ]
     },
     "execution_count": 59,
     "metadata": {},
     "output_type": "execute_result"
    }
   ],
   "source": [
    "df['rear_camera'].value_counts()"
   ]
  },
  {
   "cell_type": "code",
   "execution_count": 60,
   "id": "ecebeeeb",
   "metadata": {},
   "outputs": [],
   "source": [
    "df['rear_camera'] = df['rear_camera'].astype(int)"
   ]
  },
  {
   "cell_type": "code",
   "execution_count": 61,
   "id": "e1a5dd15",
   "metadata": {},
   "outputs": [
    {
     "data": {
      "text/plain": [
       "0"
      ]
     },
     "execution_count": 61,
     "metadata": {},
     "output_type": "execute_result"
    }
   ],
   "source": [
    "df['rear_camera'].isnull().sum()"
   ]
  },
  {
   "cell_type": "code",
   "execution_count": 62,
   "id": "76583cbb",
   "metadata": {},
   "outputs": [],
   "source": [
    "front = camera.str.split(\"|\",n=2,expand=True)[1]"
   ]
  },
  {
   "cell_type": "code",
   "execution_count": 63,
   "id": "914f690e",
   "metadata": {},
   "outputs": [],
   "source": [
    "df['front_camera'] = front.str.split(\" \",n=2,expand=True)[1]"
   ]
  },
  {
   "cell_type": "code",
   "execution_count": 64,
   "id": "0adf02ab",
   "metadata": {},
   "outputs": [],
   "source": [
    "df['front_camera'] = df['front_camera'].str.replace(\"MP\",\"\")"
   ]
  },
  {
   "cell_type": "code",
   "execution_count": 65,
   "id": "01b975e4",
   "metadata": {},
   "outputs": [
    {
     "data": {
      "text/plain": [
       "16    199\n",
       "8     179\n",
       "5     123\n",
       "12     86\n",
       "32     57\n",
       "13     41\n",
       "7      17\n",
       "20     15\n",
       "2      11\n",
       "44      8\n",
       "50      6\n",
       "24      6\n",
       "10      6\n",
       "25      4\n",
       "Name: front_camera, dtype: int64"
      ]
     },
     "execution_count": 65,
     "metadata": {},
     "output_type": "execute_result"
    }
   ],
   "source": [
    "df['front_camera'].value_counts()"
   ]
  },
  {
   "cell_type": "code",
   "execution_count": 66,
   "id": "0625dfa5",
   "metadata": {},
   "outputs": [
    {
     "data": {
      "text/plain": [
       "89"
      ]
     },
     "execution_count": 66,
     "metadata": {},
     "output_type": "execute_result"
    }
   ],
   "source": [
    "df['front_camera'].isnull().sum()"
   ]
  },
  {
   "cell_type": "code",
   "execution_count": 67,
   "id": "69113191",
   "metadata": {},
   "outputs": [],
   "source": [
    "df['front_camera'].fillna(0,inplace=True)"
   ]
  },
  {
   "cell_type": "code",
   "execution_count": 68,
   "id": "492272ae",
   "metadata": {},
   "outputs": [],
   "source": [
    "df['front_camera'] = df['front_camera'].astype(int)"
   ]
  },
  {
   "cell_type": "code",
   "execution_count": 69,
   "id": "760c9262",
   "metadata": {},
   "outputs": [
    {
     "name": "stdout",
     "output_type": "stream",
     "text": [
      "<class 'pandas.core.frame.DataFrame'>\n",
      "RangeIndex: 847 entries, 0 to 846\n",
      "Data columns (total 22 columns):\n",
      " #   Column             Non-Null Count  Dtype  \n",
      "---  ------             --------------  -----  \n",
      " 0   title              847 non-null    object \n",
      " 1   ram                847 non-null    int32  \n",
      " 2   brand              847 non-null    object \n",
      " 3   highlights         847 non-null    object \n",
      " 4   selling_price      847 non-null    float64\n",
      " 5   original_price     847 non-null    float64\n",
      " 6   avg_rating         847 non-null    float64\n",
      " 7   ratings_count      847 non-null    int64  \n",
      " 8   reviews_count      847 non-null    int64  \n",
      " 9   one_stars_count    847 non-null    int64  \n",
      " 10  two_stars_count    847 non-null    int64  \n",
      " 11  three_stars_count  847 non-null    int64  \n",
      " 12  four_stars_count   847 non-null    int64  \n",
      " 13  five_stars_count   847 non-null    int64  \n",
      " 14  model              847 non-null    object \n",
      " 15  color              847 non-null    object \n",
      " 16  rom                847 non-null    int32  \n",
      " 17  expandable         847 non-null    int32  \n",
      " 18  size(inch)         847 non-null    float64\n",
      " 19  camera             847 non-null    object \n",
      " 20  rear_camera        847 non-null    int32  \n",
      " 21  front_camera       847 non-null    int32  \n",
      "dtypes: float64(4), int32(5), int64(7), object(6)\n",
      "memory usage: 129.2+ KB\n"
     ]
    }
   ],
   "source": [
    "df.info()"
   ]
  },
  {
   "cell_type": "code",
   "execution_count": 70,
   "id": "78e9c9cb",
   "metadata": {},
   "outputs": [],
   "source": [
    "#sorting required cols:\n",
    "#new_df = df[['brand','model','color','ram','rom','expandable','rear_camera','front_camera','size(inch)','original_price']]\n",
    "new_df = df[['brand','model','color','ram','rom','expandable','rear_camera','front_camera','size(inch)','one_stars_count','two_stars_count','three_stars_count','four_stars_count','five_stars_count','original_price']]"
   ]
  },
  {
   "cell_type": "code",
   "execution_count": 71,
   "id": "1099ef95",
   "metadata": {},
   "outputs": [
    {
     "data": {
      "text/html": [
       "<div>\n",
       "<style scoped>\n",
       "    .dataframe tbody tr th:only-of-type {\n",
       "        vertical-align: middle;\n",
       "    }\n",
       "\n",
       "    .dataframe tbody tr th {\n",
       "        vertical-align: top;\n",
       "    }\n",
       "\n",
       "    .dataframe thead th {\n",
       "        text-align: right;\n",
       "    }\n",
       "</style>\n",
       "<table border=\"1\" class=\"dataframe\">\n",
       "  <thead>\n",
       "    <tr style=\"text-align: right;\">\n",
       "      <th></th>\n",
       "      <th>brand</th>\n",
       "      <th>model</th>\n",
       "      <th>color</th>\n",
       "      <th>ram</th>\n",
       "      <th>rom</th>\n",
       "      <th>expandable</th>\n",
       "      <th>rear_camera</th>\n",
       "      <th>front_camera</th>\n",
       "      <th>size(inch)</th>\n",
       "      <th>one_stars_count</th>\n",
       "      <th>two_stars_count</th>\n",
       "      <th>three_stars_count</th>\n",
       "      <th>four_stars_count</th>\n",
       "      <th>five_stars_count</th>\n",
       "      <th>original_price</th>\n",
       "    </tr>\n",
       "  </thead>\n",
       "  <tbody>\n",
       "    <tr>\n",
       "      <th>0</th>\n",
       "      <td>POCO</td>\n",
       "      <td>POCO C31</td>\n",
       "      <td>Royal Blue</td>\n",
       "      <td>4</td>\n",
       "      <td>64</td>\n",
       "      <td>512</td>\n",
       "      <td>13</td>\n",
       "      <td>5</td>\n",
       "      <td>6.53</td>\n",
       "      <td>1675</td>\n",
       "      <td>838</td>\n",
       "      <td>2678</td>\n",
       "      <td>6707</td>\n",
       "      <td>22278</td>\n",
       "      <td>11999.0</td>\n",
       "    </tr>\n",
       "    <tr>\n",
       "      <th>1</th>\n",
       "      <td>POCO</td>\n",
       "      <td>POCO C31</td>\n",
       "      <td>Shadow Gray</td>\n",
       "      <td>4</td>\n",
       "      <td>64</td>\n",
       "      <td>512</td>\n",
       "      <td>13</td>\n",
       "      <td>5</td>\n",
       "      <td>6.53</td>\n",
       "      <td>1675</td>\n",
       "      <td>838</td>\n",
       "      <td>2678</td>\n",
       "      <td>6707</td>\n",
       "      <td>22278</td>\n",
       "      <td>11999.0</td>\n",
       "    </tr>\n",
       "    <tr>\n",
       "      <th>2</th>\n",
       "      <td>realme</td>\n",
       "      <td>realme C35</td>\n",
       "      <td>Glowing Green</td>\n",
       "      <td>4</td>\n",
       "      <td>64</td>\n",
       "      <td>1000</td>\n",
       "      <td>50</td>\n",
       "      <td>8</td>\n",
       "      <td>6.60</td>\n",
       "      <td>590</td>\n",
       "      <td>200</td>\n",
       "      <td>487</td>\n",
       "      <td>1303</td>\n",
       "      <td>5983</td>\n",
       "      <td>13999.0</td>\n",
       "    </tr>\n",
       "    <tr>\n",
       "      <th>3</th>\n",
       "      <td>OPPO</td>\n",
       "      <td>OPPO K10</td>\n",
       "      <td>Black Carbon</td>\n",
       "      <td>6</td>\n",
       "      <td>128</td>\n",
       "      <td>1000</td>\n",
       "      <td>50</td>\n",
       "      <td>16</td>\n",
       "      <td>6.59</td>\n",
       "      <td>0</td>\n",
       "      <td>0</td>\n",
       "      <td>0</td>\n",
       "      <td>0</td>\n",
       "      <td>0</td>\n",
       "      <td>18999.0</td>\n",
       "    </tr>\n",
       "    <tr>\n",
       "      <th>4</th>\n",
       "      <td>MOTOROLA</td>\n",
       "      <td>MOTOROLA G60</td>\n",
       "      <td>Soft Silver</td>\n",
       "      <td>6</td>\n",
       "      <td>128</td>\n",
       "      <td>0</td>\n",
       "      <td>108</td>\n",
       "      <td>32</td>\n",
       "      <td>6.78</td>\n",
       "      <td>7080</td>\n",
       "      <td>2754</td>\n",
       "      <td>6671</td>\n",
       "      <td>19500</td>\n",
       "      <td>49741</td>\n",
       "      <td>21999.0</td>\n",
       "    </tr>\n",
       "    <tr>\n",
       "      <th>...</th>\n",
       "      <td>...</td>\n",
       "      <td>...</td>\n",
       "      <td>...</td>\n",
       "      <td>...</td>\n",
       "      <td>...</td>\n",
       "      <td>...</td>\n",
       "      <td>...</td>\n",
       "      <td>...</td>\n",
       "      <td>...</td>\n",
       "      <td>...</td>\n",
       "      <td>...</td>\n",
       "      <td>...</td>\n",
       "      <td>...</td>\n",
       "      <td>...</td>\n",
       "      <td>...</td>\n",
       "    </tr>\n",
       "    <tr>\n",
       "      <th>842</th>\n",
       "      <td>OPPO</td>\n",
       "      <td>OPPO A37f</td>\n",
       "      <td>Black</td>\n",
       "      <td>2</td>\n",
       "      <td>16</td>\n",
       "      <td>128</td>\n",
       "      <td>8</td>\n",
       "      <td>5</td>\n",
       "      <td>5.00</td>\n",
       "      <td>891</td>\n",
       "      <td>456</td>\n",
       "      <td>1134</td>\n",
       "      <td>2427</td>\n",
       "      <td>6629</td>\n",
       "      <td>10990.0</td>\n",
       "    </tr>\n",
       "    <tr>\n",
       "      <th>843</th>\n",
       "      <td>KARBONN</td>\n",
       "      <td>KARBONN K9 Kavach</td>\n",
       "      <td>Champagne</td>\n",
       "      <td>2</td>\n",
       "      <td>16</td>\n",
       "      <td>32</td>\n",
       "      <td>5</td>\n",
       "      <td>0</td>\n",
       "      <td>5.00</td>\n",
       "      <td>294</td>\n",
       "      <td>131</td>\n",
       "      <td>291</td>\n",
       "      <td>451</td>\n",
       "      <td>1730</td>\n",
       "      <td>7490.0</td>\n",
       "    </tr>\n",
       "    <tr>\n",
       "      <th>844</th>\n",
       "      <td>OPPO</td>\n",
       "      <td>OPPO Reno2</td>\n",
       "      <td>Ocean Blue</td>\n",
       "      <td>8</td>\n",
       "      <td>256</td>\n",
       "      <td>256</td>\n",
       "      <td>48</td>\n",
       "      <td>16</td>\n",
       "      <td>6.50</td>\n",
       "      <td>106</td>\n",
       "      <td>41</td>\n",
       "      <td>101</td>\n",
       "      <td>279</td>\n",
       "      <td>1121</td>\n",
       "      <td>39990.0</td>\n",
       "    </tr>\n",
       "    <tr>\n",
       "      <th>845</th>\n",
       "      <td>SAMSUNG</td>\n",
       "      <td>SAMSUNG Galaxy A53</td>\n",
       "      <td>Light Blue</td>\n",
       "      <td>8</td>\n",
       "      <td>128</td>\n",
       "      <td>1000</td>\n",
       "      <td>64</td>\n",
       "      <td>32</td>\n",
       "      <td>6.50</td>\n",
       "      <td>0</td>\n",
       "      <td>0</td>\n",
       "      <td>0</td>\n",
       "      <td>0</td>\n",
       "      <td>0</td>\n",
       "      <td>40999.0</td>\n",
       "    </tr>\n",
       "    <tr>\n",
       "      <th>846</th>\n",
       "      <td>YU</td>\n",
       "      <td>YU Ace</td>\n",
       "      <td>Rose Gold</td>\n",
       "      <td>2</td>\n",
       "      <td>16</td>\n",
       "      <td>128</td>\n",
       "      <td>13</td>\n",
       "      <td>5</td>\n",
       "      <td>5.45</td>\n",
       "      <td>5079</td>\n",
       "      <td>3100</td>\n",
       "      <td>8228</td>\n",
       "      <td>15374</td>\n",
       "      <td>34322</td>\n",
       "      <td>7999.0</td>\n",
       "    </tr>\n",
       "  </tbody>\n",
       "</table>\n",
       "<p>847 rows × 15 columns</p>\n",
       "</div>"
      ],
      "text/plain": [
       "        brand                model          color  ram  rom  expandable  \\\n",
       "0        POCO            POCO C31      Royal Blue    4   64         512   \n",
       "1        POCO            POCO C31     Shadow Gray    4   64         512   \n",
       "2      realme          realme C35   Glowing Green    4   64        1000   \n",
       "3        OPPO            OPPO K10    Black Carbon    6  128        1000   \n",
       "4    MOTOROLA        MOTOROLA G60     Soft Silver    6  128           0   \n",
       "..        ...                  ...            ...  ...  ...         ...   \n",
       "842      OPPO           OPPO A37f           Black    2   16         128   \n",
       "843   KARBONN   KARBONN K9 Kavach       Champagne    2   16          32   \n",
       "844      OPPO          OPPO Reno2      Ocean Blue    8  256         256   \n",
       "845   SAMSUNG  SAMSUNG Galaxy A53      Light Blue    8  128        1000   \n",
       "846        YU              YU Ace       Rose Gold    2   16         128   \n",
       "\n",
       "     rear_camera  front_camera  size(inch)  one_stars_count  two_stars_count  \\\n",
       "0             13             5        6.53             1675              838   \n",
       "1             13             5        6.53             1675              838   \n",
       "2             50             8        6.60              590              200   \n",
       "3             50            16        6.59                0                0   \n",
       "4            108            32        6.78             7080             2754   \n",
       "..           ...           ...         ...              ...              ...   \n",
       "842            8             5        5.00              891              456   \n",
       "843            5             0        5.00              294              131   \n",
       "844           48            16        6.50              106               41   \n",
       "845           64            32        6.50                0                0   \n",
       "846           13             5        5.45             5079             3100   \n",
       "\n",
       "     three_stars_count  four_stars_count  five_stars_count  original_price  \n",
       "0                 2678              6707             22278         11999.0  \n",
       "1                 2678              6707             22278         11999.0  \n",
       "2                  487              1303              5983         13999.0  \n",
       "3                    0                 0                 0         18999.0  \n",
       "4                 6671             19500             49741         21999.0  \n",
       "..                 ...               ...               ...             ...  \n",
       "842               1134              2427              6629         10990.0  \n",
       "843                291               451              1730          7490.0  \n",
       "844                101               279              1121         39990.0  \n",
       "845                  0                 0                 0         40999.0  \n",
       "846               8228             15374             34322          7999.0  \n",
       "\n",
       "[847 rows x 15 columns]"
      ]
     },
     "execution_count": 71,
     "metadata": {},
     "output_type": "execute_result"
    }
   ],
   "source": [
    "new_df"
   ]
  },
  {
   "cell_type": "code",
   "execution_count": 72,
   "id": "b59690d1",
   "metadata": {},
   "outputs": [
    {
     "data": {
      "text/plain": [
       "ram                  0.134357\n",
       "rom                  0.727685\n",
       "expandable          -0.261760\n",
       "rear_camera         -0.102670\n",
       "front_camera         0.171148\n",
       "size(inch)          -0.053396\n",
       "one_stars_count     -0.131063\n",
       "two_stars_count     -0.155033\n",
       "three_stars_count   -0.153699\n",
       "four_stars_count    -0.126316\n",
       "five_stars_count    -0.079585\n",
       "original_price       1.000000\n",
       "Name: original_price, dtype: float64"
      ]
     },
     "execution_count": 72,
     "metadata": {},
     "output_type": "execute_result"
    }
   ],
   "source": [
    "new_df.corr()['original_price']"
   ]
  },
  {
   "cell_type": "code",
   "execution_count": 73,
   "id": "3caca49d",
   "metadata": {},
   "outputs": [
    {
     "data": {
      "text/plain": [
       "<AxesSubplot:>"
      ]
     },
     "execution_count": 73,
     "metadata": {},
     "output_type": "execute_result"
    },
    {
     "data": {
      "image/png": "[encoded data removed]",
      "text/plain": [
       "<Figure size 432x288 with 2 Axes>"
      ]
     },
     "metadata": {
      "needs_background": "light"
     },
     "output_type": "display_data"
    }
   ],
   "source": [
    "sns.heatmap(new_df.corr())"
   ]
  },
  {
   "cell_type": "code",
   "execution_count": 74,
   "id": "ce490fdf",
   "metadata": {},
   "outputs": [],
   "source": [
    "X = new_df.iloc[:,:-1]\n",
    "y = np.log(new_df['original_price'])"
   ]
  },
  {
   "cell_type": "code",
   "execution_count": 75,
   "id": "c571cf65",
   "metadata": {},
   "outputs": [
    {
     "data": {
      "text/html": [
       "<div>\n",
       "<style scoped>\n",
       "    .dataframe tbody tr th:only-of-type {\n",
       "        vertical-align: middle;\n",
       "    }\n",
       "\n",
       "    .dataframe tbody tr th {\n",
       "        vertical-align: top;\n",
       "    }\n",
       "\n",
       "    .dataframe thead th {\n",
       "        text-align: right;\n",
       "    }\n",
       "</style>\n",
       "<table border=\"1\" class=\"dataframe\">\n",
       "  <thead>\n",
       "    <tr style=\"text-align: right;\">\n",
       "      <th></th>\n",
       "      <th>brand</th>\n",
       "      <th>model</th>\n",
       "      <th>color</th>\n",
       "      <th>ram</th>\n",
       "      <th>rom</th>\n",
       "      <th>expandable</th>\n",
       "      <th>rear_camera</th>\n",
       "      <th>front_camera</th>\n",
       "      <th>size(inch)</th>\n",
       "      <th>one_stars_count</th>\n",
       "      <th>two_stars_count</th>\n",
       "      <th>three_stars_count</th>\n",
       "      <th>four_stars_count</th>\n",
       "      <th>five_stars_count</th>\n",
       "    </tr>\n",
       "  </thead>\n",
       "  <tbody>\n",
       "    <tr>\n",
       "      <th>0</th>\n",
       "      <td>POCO</td>\n",
       "      <td>POCO C31</td>\n",
       "      <td>Royal Blue</td>\n",
       "      <td>4</td>\n",
       "      <td>64</td>\n",
       "      <td>512</td>\n",
       "      <td>13</td>\n",
       "      <td>5</td>\n",
       "      <td>6.53</td>\n",
       "      <td>1675</td>\n",
       "      <td>838</td>\n",
       "      <td>2678</td>\n",
       "      <td>6707</td>\n",
       "      <td>22278</td>\n",
       "    </tr>\n",
       "    <tr>\n",
       "      <th>1</th>\n",
       "      <td>POCO</td>\n",
       "      <td>POCO C31</td>\n",
       "      <td>Shadow Gray</td>\n",
       "      <td>4</td>\n",
       "      <td>64</td>\n",
       "      <td>512</td>\n",
       "      <td>13</td>\n",
       "      <td>5</td>\n",
       "      <td>6.53</td>\n",
       "      <td>1675</td>\n",
       "      <td>838</td>\n",
       "      <td>2678</td>\n",
       "      <td>6707</td>\n",
       "      <td>22278</td>\n",
       "    </tr>\n",
       "    <tr>\n",
       "      <th>2</th>\n",
       "      <td>realme</td>\n",
       "      <td>realme C35</td>\n",
       "      <td>Glowing Green</td>\n",
       "      <td>4</td>\n",
       "      <td>64</td>\n",
       "      <td>1000</td>\n",
       "      <td>50</td>\n",
       "      <td>8</td>\n",
       "      <td>6.60</td>\n",
       "      <td>590</td>\n",
       "      <td>200</td>\n",
       "      <td>487</td>\n",
       "      <td>1303</td>\n",
       "      <td>5983</td>\n",
       "    </tr>\n",
       "    <tr>\n",
       "      <th>3</th>\n",
       "      <td>OPPO</td>\n",
       "      <td>OPPO K10</td>\n",
       "      <td>Black Carbon</td>\n",
       "      <td>6</td>\n",
       "      <td>128</td>\n",
       "      <td>1000</td>\n",
       "      <td>50</td>\n",
       "      <td>16</td>\n",
       "      <td>6.59</td>\n",
       "      <td>0</td>\n",
       "      <td>0</td>\n",
       "      <td>0</td>\n",
       "      <td>0</td>\n",
       "      <td>0</td>\n",
       "    </tr>\n",
       "    <tr>\n",
       "      <th>4</th>\n",
       "      <td>MOTOROLA</td>\n",
       "      <td>MOTOROLA G60</td>\n",
       "      <td>Soft Silver</td>\n",
       "      <td>6</td>\n",
       "      <td>128</td>\n",
       "      <td>0</td>\n",
       "      <td>108</td>\n",
       "      <td>32</td>\n",
       "      <td>6.78</td>\n",
       "      <td>7080</td>\n",
       "      <td>2754</td>\n",
       "      <td>6671</td>\n",
       "      <td>19500</td>\n",
       "      <td>49741</td>\n",
       "    </tr>\n",
       "    <tr>\n",
       "      <th>...</th>\n",
       "      <td>...</td>\n",
       "      <td>...</td>\n",
       "      <td>...</td>\n",
       "      <td>...</td>\n",
       "      <td>...</td>\n",
       "      <td>...</td>\n",
       "      <td>...</td>\n",
       "      <td>...</td>\n",
       "      <td>...</td>\n",
       "      <td>...</td>\n",
       "      <td>...</td>\n",
       "      <td>...</td>\n",
       "      <td>...</td>\n",
       "      <td>...</td>\n",
       "    </tr>\n",
       "    <tr>\n",
       "      <th>842</th>\n",
       "      <td>OPPO</td>\n",
       "      <td>OPPO A37f</td>\n",
       "      <td>Black</td>\n",
       "      <td>2</td>\n",
       "      <td>16</td>\n",
       "      <td>128</td>\n",
       "      <td>8</td>\n",
       "      <td>5</td>\n",
       "      <td>5.00</td>\n",
       "      <td>891</td>\n",
       "      <td>456</td>\n",
       "      <td>1134</td>\n",
       "      <td>2427</td>\n",
       "      <td>6629</td>\n",
       "    </tr>\n",
       "    <tr>\n",
       "      <th>843</th>\n",
       "      <td>KARBONN</td>\n",
       "      <td>KARBONN K9 Kavach</td>\n",
       "      <td>Champagne</td>\n",
       "      <td>2</td>\n",
       "      <td>16</td>\n",
       "      <td>32</td>\n",
       "      <td>5</td>\n",
       "      <td>0</td>\n",
       "      <td>5.00</td>\n",
       "      <td>294</td>\n",
       "      <td>131</td>\n",
       "      <td>291</td>\n",
       "      <td>451</td>\n",
       "      <td>1730</td>\n",
       "    </tr>\n",
       "    <tr>\n",
       "      <th>844</th>\n",
       "      <td>OPPO</td>\n",
       "      <td>OPPO Reno2</td>\n",
       "      <td>Ocean Blue</td>\n",
       "      <td>8</td>\n",
       "      <td>256</td>\n",
       "      <td>256</td>\n",
       "      <td>48</td>\n",
       "      <td>16</td>\n",
       "      <td>6.50</td>\n",
       "      <td>106</td>\n",
       "      <td>41</td>\n",
       "      <td>101</td>\n",
       "      <td>279</td>\n",
       "      <td>1121</td>\n",
       "    </tr>\n",
       "    <tr>\n",
       "      <th>845</th>\n",
       "      <td>SAMSUNG</td>\n",
       "      <td>SAMSUNG Galaxy A53</td>\n",
       "      <td>Light Blue</td>\n",
       "      <td>8</td>\n",
       "      <td>128</td>\n",
       "      <td>1000</td>\n",
       "      <td>64</td>\n",
       "      <td>32</td>\n",
       "      <td>6.50</td>\n",
       "      <td>0</td>\n",
       "      <td>0</td>\n",
       "      <td>0</td>\n",
       "      <td>0</td>\n",
       "      <td>0</td>\n",
       "    </tr>\n",
       "    <tr>\n",
       "      <th>846</th>\n",
       "      <td>YU</td>\n",
       "      <td>YU Ace</td>\n",
       "      <td>Rose Gold</td>\n",
       "      <td>2</td>\n",
       "      <td>16</td>\n",
       "      <td>128</td>\n",
       "      <td>13</td>\n",
       "      <td>5</td>\n",
       "      <td>5.45</td>\n",
       "      <td>5079</td>\n",
       "      <td>3100</td>\n",
       "      <td>8228</td>\n",
       "      <td>15374</td>\n",
       "      <td>34322</td>\n",
       "    </tr>\n",
       "  </tbody>\n",
       "</table>\n",
       "<p>847 rows × 14 columns</p>\n",
       "</div>"
      ],
      "text/plain": [
       "        brand                model          color  ram  rom  expandable  \\\n",
       "0        POCO            POCO C31      Royal Blue    4   64         512   \n",
       "1        POCO            POCO C31     Shadow Gray    4   64         512   \n",
       "2      realme          realme C35   Glowing Green    4   64        1000   \n",
       "3        OPPO            OPPO K10    Black Carbon    6  128        1000   \n",
       "4    MOTOROLA        MOTOROLA G60     Soft Silver    6  128           0   \n",
       "..        ...                  ...            ...  ...  ...         ...   \n",
       "842      OPPO           OPPO A37f           Black    2   16         128   \n",
       "843   KARBONN   KARBONN K9 Kavach       Champagne    2   16          32   \n",
       "844      OPPO          OPPO Reno2      Ocean Blue    8  256         256   \n",
       "845   SAMSUNG  SAMSUNG Galaxy A53      Light Blue    8  128        1000   \n",
       "846        YU              YU Ace       Rose Gold    2   16         128   \n",
       "\n",
       "     rear_camera  front_camera  size(inch)  one_stars_count  two_stars_count  \\\n",
       "0             13             5        6.53             1675              838   \n",
       "1             13             5        6.53             1675              838   \n",
       "2             50             8        6.60              590              200   \n",
       "3             50            16        6.59                0                0   \n",
       "4            108            32        6.78             7080             2754   \n",
       "..           ...           ...         ...              ...              ...   \n",
       "842            8             5        5.00              891              456   \n",
       "843            5             0        5.00              294              131   \n",
       "844           48            16        6.50              106               41   \n",
       "845           64            32        6.50                0                0   \n",
       "846           13             5        5.45             5079             3100   \n",
       "\n",
       "     three_stars_count  four_stars_count  five_stars_count  \n",
       "0                 2678              6707             22278  \n",
       "1                 2678              6707             22278  \n",
       "2                  487              1303              5983  \n",
       "3                    0                 0                 0  \n",
       "4                 6671             19500             49741  \n",
       "..                 ...               ...               ...  \n",
       "842               1134              2427              6629  \n",
       "843                291               451              1730  \n",
       "844                101               279              1121  \n",
       "845                  0                 0                 0  \n",
       "846               8228             15374             34322  \n",
       "\n",
       "[847 rows x 14 columns]"
      ]
     },
     "execution_count": 75,
     "metadata": {},
     "output_type": "execute_result"
    }
   ],
   "source": [
    "X"
   ]
  },
  {
   "cell_type": "code",
   "execution_count": 76,
   "id": "29c170e5",
   "metadata": {},
   "outputs": [
    {
     "data": {
      "text/plain": [
       "0       9.392579\n",
       "1       9.392579\n",
       "2       9.546741\n",
       "3       9.852142\n",
       "4       9.998752\n",
       "         ...    \n",
       "842     9.304741\n",
       "843     8.921324\n",
       "844    10.596385\n",
       "845    10.621303\n",
       "846     8.987072\n",
       "Name: original_price, Length: 847, dtype: float64"
      ]
     },
     "execution_count": 76,
     "metadata": {},
     "output_type": "execute_result"
    }
   ],
   "source": [
    "y"
   ]
  },
  {
   "cell_type": "markdown",
   "id": "28d90529",
   "metadata": {},
   "source": [
    "## Building the model"
   ]
  },
  {
   "cell_type": "code",
   "execution_count": 77,
   "id": "11eae80c",
   "metadata": {},
   "outputs": [],
   "source": [
    "from sklearn.model_selection import train_test_split"
   ]
  },
  {
   "cell_type": "code",
   "execution_count": 78,
   "id": "d6eb7db9",
   "metadata": {},
   "outputs": [],
   "source": [
    "X_train, X_test, y_train, y_test = train_test_split(X,y,test_size=0.2,random_state=0)"
   ]
  },
  {
   "cell_type": "code",
   "execution_count": 79,
   "id": "888c7b20",
   "metadata": {},
   "outputs": [],
   "source": [
    "from sklearn.compose import ColumnTransformer\n",
    "from sklearn.pipeline import Pipeline\n",
    "from sklearn.preprocessing import OneHotEncoder"
   ]
  },
  {
   "cell_type": "code",
   "execution_count": 80,
   "id": "63ff356f",
   "metadata": {},
   "outputs": [],
   "source": [
    "from sklearn.linear_model import LinearRegression, Ridge, Lasso\n",
    "from sklearn.neighbors import KNeighborsRegressor\n",
    "from sklearn.tree import DecisionTreeRegressor\n",
    "from sklearn.ensemble import RandomForestRegressor, GradientBoostingRegressor, AdaBoostRegressor\n",
    "from sklearn.svm import SVR\n",
    "from xgboost import XGBRegressor\n",
    "from sklearn.metrics import r2_score,mean_absolute_error\n",
    "from sklearn.model_selection import cross_val_score"
   ]
  },
  {
   "cell_type": "markdown",
   "id": "3f75fcf3",
   "metadata": {},
   "source": [
    "## Linear Regression"
   ]
  },
  {
   "cell_type": "code",
   "execution_count": 81,
   "id": "a5644604",
   "metadata": {},
   "outputs": [
    {
     "name": "stdout",
     "output_type": "stream",
     "text": [
      "R2Score:  -122151497.43793292\n",
      "MAE:  2232.244946543093\n"
     ]
    },
    {
     "name": "stderr",
     "output_type": "stream",
     "text": [
      "C:\\Users\\Neeraj\\AppData\\Local\\Programs\\Python\\Python310\\lib\\site-packages\\sklearn\\preprocessing\\_encoders.py:188: UserWarning: Found unknown categories in columns [0, 1, 2] during transform. These unknown categories will be encoded as all zeros\n",
      "  warnings.warn(\n"
     ]
    }
   ],
   "source": [
    "step1 = ColumnTransformer(transformers=[\n",
    "    ('col_tnf1',OneHotEncoder(sparse=False,drop='first',handle_unknown='ignore'),[0,1,2])\n",
    "],remainder='passthrough')\n",
    "\n",
    "step2 = LinearRegression()\n",
    "\n",
    "pipe = Pipeline([\n",
    "    ('step1',step1),\n",
    "    ('step2',step2)\n",
    "])\n",
    "\n",
    "pipe.fit(X_train,y_train)\n",
    "\n",
    "y_pred = pipe.predict(X_test)\n",
    "\n",
    "print('R2Score: ',r2_score(y_test,y_pred))\n",
    "print('MAE: ',mean_absolute_error(y_test,y_pred))"
   ]
  },
  {
   "cell_type": "markdown",
   "id": "e01aabf2",
   "metadata": {},
   "source": [
    "## Ridge"
   ]
  },
  {
   "cell_type": "code",
   "execution_count": 82,
   "id": "f5ee6968",
   "metadata": {},
   "outputs": [
    {
     "name": "stdout",
     "output_type": "stream",
     "text": [
      "R2Score:  0.8166791083461162\n",
      "MAE:  0.21440529728527621\n"
     ]
    },
    {
     "name": "stderr",
     "output_type": "stream",
     "text": [
      "C:\\Users\\Neeraj\\AppData\\Local\\Programs\\Python\\Python310\\lib\\site-packages\\sklearn\\preprocessing\\_encoders.py:188: UserWarning: Found unknown categories in columns [0, 1, 2] during transform. These unknown categories will be encoded as all zeros\n",
      "  warnings.warn(\n"
     ]
    }
   ],
   "source": [
    "step1 = ColumnTransformer(transformers=[\n",
    "    ('col_tnf1',OneHotEncoder(sparse=False,drop='first',handle_unknown='ignore'),[0,1,2])\n",
    "],remainder='passthrough')\n",
    "\n",
    "step2 = Ridge(alpha=5)\n",
    "\n",
    "pipe = Pipeline([\n",
    "    ('step1',step1),\n",
    "    ('step2',step2)\n",
    "])\n",
    "\n",
    "pipe.fit(X_train,y_train)\n",
    "\n",
    "y_pred = pipe.predict(X_test)\n",
    "\n",
    "print('R2Score: ',r2_score(y_test,y_pred))\n",
    "print('MAE: ',mean_absolute_error(y_test,y_pred))"
   ]
  },
  {
   "cell_type": "markdown",
   "id": "eeda1b01",
   "metadata": {},
   "source": [
    "## Lasso"
   ]
  },
  {
   "cell_type": "code",
   "execution_count": 83,
   "id": "77313942",
   "metadata": {},
   "outputs": [
    {
     "name": "stdout",
     "output_type": "stream",
     "text": [
      "R2Score:  0.8739247141493984\n",
      "MAE:  0.11859344173265711\n"
     ]
    },
    {
     "name": "stderr",
     "output_type": "stream",
     "text": [
      "C:\\Users\\Neeraj\\AppData\\Local\\Programs\\Python\\Python310\\lib\\site-packages\\sklearn\\linear_model\\_coordinate_descent.py:648: ConvergenceWarning: Objective did not converge. You might want to increase the number of iterations, check the scale of the features or consider increasing regularisation. Duality gap: 5.105e+00, tolerance: 3.253e-02\n",
      "  model = cd_fast.enet_coordinate_descent(\n",
      "C:\\Users\\Neeraj\\AppData\\Local\\Programs\\Python\\Python310\\lib\\site-packages\\sklearn\\preprocessing\\_encoders.py:188: UserWarning: Found unknown categories in columns [0, 1, 2] during transform. These unknown categories will be encoded as all zeros\n",
      "  warnings.warn(\n"
     ]
    }
   ],
   "source": [
    "step1 = ColumnTransformer(transformers=[\n",
    "    ('col_tnf1',OneHotEncoder(sparse=False,drop='first',handle_unknown='ignore'),[0,1,2])\n",
    "],remainder='passthrough')\n",
    "\n",
    "step2 = Lasso(alpha=0.0001)\n",
    "\n",
    "pipe = Pipeline([\n",
    "    ('step1',step1),\n",
    "    ('step2',step2)\n",
    "])\n",
    "\n",
    "pipe.fit(X_train,y_train)\n",
    "\n",
    "y_pred = pipe.predict(X_test)\n",
    "\n",
    "print('R2Score: ',r2_score(y_test,y_pred))\n",
    "print('MAE: ',mean_absolute_error(y_test,y_pred))"
   ]
  },
  {
   "cell_type": "markdown",
   "id": "5bab5df7",
   "metadata": {},
   "source": [
    "## KNN"
   ]
  },
  {
   "cell_type": "code",
   "execution_count": 84,
   "id": "ba01abc5",
   "metadata": {},
   "outputs": [
    {
     "name": "stderr",
     "output_type": "stream",
     "text": [
      "C:\\Users\\Neeraj\\AppData\\Local\\Programs\\Python\\Python310\\lib\\site-packages\\sklearn\\preprocessing\\_encoders.py:188: UserWarning: Found unknown categories in columns [0, 1, 2] during transform. These unknown categories will be encoded as all zeros\n",
      "  warnings.warn(\n"
     ]
    },
    {
     "name": "stdout",
     "output_type": "stream",
     "text": [
      "R2Score:  0.9087113984669531\n",
      "MAE:  0.09835009733720977\n"
     ]
    }
   ],
   "source": [
    "step1 = ColumnTransformer(transformers=[\n",
    "    ('col_tnf1',OneHotEncoder(sparse=False,drop='first',handle_unknown='ignore'),[0,1,2])\n",
    "],remainder='passthrough')\n",
    "\n",
    "step2 = KNeighborsRegressor(n_neighbors=1)\n",
    "\n",
    "pipe = Pipeline([\n",
    "    ('step1',step1),\n",
    "    ('step2',step2)\n",
    "])\n",
    "\n",
    "pipe.fit(X_train,y_train)\n",
    "\n",
    "y_pred = pipe.predict(X_test)\n",
    "\n",
    "print('R2Score: ',r2_score(y_test,y_pred))\n",
    "print('MAE: ',mean_absolute_error(y_test,y_pred))"
   ]
  },
  {
   "cell_type": "markdown",
   "id": "9c1ea4ad",
   "metadata": {},
   "source": [
    "## Decision Tree"
   ]
  },
  {
   "cell_type": "code",
   "execution_count": 85,
   "id": "0151ef62",
   "metadata": {},
   "outputs": [
    {
     "name": "stdout",
     "output_type": "stream",
     "text": [
      "R2Score:  0.8949847660588706\n",
      "MAE:  0.0780712858919719\n"
     ]
    },
    {
     "name": "stderr",
     "output_type": "stream",
     "text": [
      "C:\\Users\\Neeraj\\AppData\\Local\\Programs\\Python\\Python310\\lib\\site-packages\\sklearn\\preprocessing\\_encoders.py:188: UserWarning: Found unknown categories in columns [0, 1, 2] during transform. These unknown categories will be encoded as all zeros\n",
      "  warnings.warn(\n"
     ]
    }
   ],
   "source": [
    "step1 = ColumnTransformer(transformers=[\n",
    "    ('col_tnf1',OneHotEncoder(sparse=False,drop='first',handle_unknown='ignore'),[0,1,2])\n",
    "],remainder='passthrough')\n",
    "\n",
    "step2 = DecisionTreeRegressor(max_depth=230)\n",
    "\n",
    "pipe = Pipeline([\n",
    "    ('step1',step1),\n",
    "    ('step2',step2)\n",
    "])\n",
    "\n",
    "pipe.fit(X_train,y_train)\n",
    "\n",
    "y_pred = pipe.predict(X_test)\n",
    "\n",
    "print('R2Score: ',r2_score(y_test,y_pred))\n",
    "print('MAE: ',mean_absolute_error(y_test,y_pred))"
   ]
  },
  {
   "cell_type": "markdown",
   "id": "96b9559b",
   "metadata": {},
   "source": [
    "## Random Forest"
   ]
  },
  {
   "cell_type": "code",
   "execution_count": 86,
   "id": "eb61bf5d",
   "metadata": {},
   "outputs": [
    {
     "name": "stdout",
     "output_type": "stream",
     "text": [
      "R2Score:  0.9251826331937317\n",
      "MAE:  0.11280897552703091\n"
     ]
    },
    {
     "name": "stderr",
     "output_type": "stream",
     "text": [
      "C:\\Users\\Neeraj\\AppData\\Local\\Programs\\Python\\Python310\\lib\\site-packages\\sklearn\\preprocessing\\_encoders.py:188: UserWarning: Found unknown categories in columns [0, 1, 2] during transform. These unknown categories will be encoded as all zeros\n",
      "  warnings.warn(\n"
     ]
    }
   ],
   "source": [
    "step1 = ColumnTransformer(transformers=[\n",
    "    ('col_tnf1',OneHotEncoder(sparse=False,drop='first',handle_unknown='ignore'),[0,1,2])\n",
    "],remainder='passthrough')\n",
    "\n",
    "step2 = RandomForestRegressor(n_estimators=100,random_state=5, max_samples=0.5, max_features=0.80, max_depth=30)\n",
    "\n",
    "pipe = Pipeline([\n",
    "    ('step1',step1),\n",
    "    ('step2',step2)\n",
    "])\n",
    "\n",
    "pipe.fit(X_train,y_train)\n",
    "\n",
    "y_pred = pipe.predict(X_test)\n",
    "\n",
    "print('R2Score: ',r2_score(y_test,y_pred))\n",
    "print('MAE: ',mean_absolute_error(y_test,y_pred))"
   ]
  },
  {
   "cell_type": "markdown",
   "id": "1a1e62cd",
   "metadata": {},
   "source": [
    "## Gradient Boosting Regressor"
   ]
  },
  {
   "cell_type": "code",
   "execution_count": 87,
   "id": "d078db87",
   "metadata": {},
   "outputs": [
    {
     "name": "stdout",
     "output_type": "stream",
     "text": [
      "R2Score:  0.9233238643555648\n",
      "MAE:  0.10621525617051525\n"
     ]
    },
    {
     "name": "stderr",
     "output_type": "stream",
     "text": [
      "C:\\Users\\Neeraj\\AppData\\Local\\Programs\\Python\\Python310\\lib\\site-packages\\sklearn\\preprocessing\\_encoders.py:188: UserWarning: Found unknown categories in columns [0, 1, 2] during transform. These unknown categories will be encoded as all zeros\n",
      "  warnings.warn(\n"
     ]
    }
   ],
   "source": [
    "step1 = ColumnTransformer(transformers=[\n",
    "    ('col_tnf1',OneHotEncoder(sparse=False,drop='first',handle_unknown='ignore'),[0,1,2])\n",
    "],remainder='passthrough')\n",
    "\n",
    "step2 = GradientBoostingRegressor(n_estimators=300)\n",
    "\n",
    "pipe = Pipeline([\n",
    "    ('step1',step1),\n",
    "    ('step2',step2)\n",
    "])\n",
    "\n",
    "pipe.fit(X_train,y_train)\n",
    "\n",
    "y_pred = pipe.predict(X_test)\n",
    "\n",
    "print('R2Score: ',r2_score(y_test,y_pred))\n",
    "print('MAE: ',mean_absolute_error(y_test,y_pred))"
   ]
  },
  {
   "cell_type": "markdown",
   "id": "0117d5a0",
   "metadata": {},
   "source": [
    "## Adaboost Regressor"
   ]
  },
  {
   "cell_type": "code",
   "execution_count": 88,
   "id": "18504d58",
   "metadata": {},
   "outputs": [
    {
     "name": "stdout",
     "output_type": "stream",
     "text": [
      "R2Score:  0.8631100933263217\n",
      "MAE:  0.19152353336408168\n"
     ]
    },
    {
     "name": "stderr",
     "output_type": "stream",
     "text": [
      "C:\\Users\\Neeraj\\AppData\\Local\\Programs\\Python\\Python310\\lib\\site-packages\\sklearn\\preprocessing\\_encoders.py:188: UserWarning: Found unknown categories in columns [0, 1, 2] during transform. These unknown categories will be encoded as all zeros\n",
      "  warnings.warn(\n"
     ]
    }
   ],
   "source": [
    "step1 = ColumnTransformer(transformers=[\n",
    "    ('col_tnf1',OneHotEncoder(sparse=False,drop='first',handle_unknown='ignore'),[0,1,2])\n",
    "],remainder='passthrough')\n",
    "\n",
    "step2 = AdaBoostRegressor(learning_rate=0.05, n_estimators=200)\n",
    "\n",
    "pipe = Pipeline([\n",
    "    ('step1',step1),\n",
    "    ('step2',step2)\n",
    "])\n",
    "\n",
    "pipe.fit(X_train,y_train)\n",
    "\n",
    "y_pred = pipe.predict(X_test)\n",
    "\n",
    "print('R2Score: ',r2_score(y_test,y_pred))\n",
    "print('MAE: ',mean_absolute_error(y_test,y_pred))"
   ]
  },
  {
   "cell_type": "markdown",
   "id": "5dab5bd6",
   "metadata": {},
   "source": [
    "## SVR"
   ]
  },
  {
   "cell_type": "code",
   "execution_count": 89,
   "id": "deee248e",
   "metadata": {},
   "outputs": [
    {
     "name": "stdout",
     "output_type": "stream",
     "text": [
      "R2Score:  0.5756812709164192\n",
      "MAE:  0.2961779441096583\n"
     ]
    },
    {
     "name": "stderr",
     "output_type": "stream",
     "text": [
      "C:\\Users\\Neeraj\\AppData\\Local\\Programs\\Python\\Python310\\lib\\site-packages\\sklearn\\preprocessing\\_encoders.py:188: UserWarning: Found unknown categories in columns [0, 1, 2] during transform. These unknown categories will be encoded as all zeros\n",
      "  warnings.warn(\n"
     ]
    }
   ],
   "source": [
    "step1 = ColumnTransformer(transformers=[\n",
    "    ('col_tnf1',OneHotEncoder(sparse=False,drop='first',handle_unknown='ignore'),[0,1,2])\n",
    "],remainder='passthrough')\n",
    "\n",
    "step2 = SVR(C=10000, epsilon=0.1)\n",
    "\n",
    "pipe = Pipeline([\n",
    "    ('step1',step1),\n",
    "    ('step2',step2)\n",
    "])\n",
    "\n",
    "pipe.fit(X_train,y_train)\n",
    "\n",
    "y_pred = pipe.predict(X_test)\n",
    "\n",
    "print('R2Score: ',r2_score(y_test,y_pred))\n",
    "print('MAE: ',mean_absolute_error(y_test,y_pred))"
   ]
  },
  {
   "cell_type": "markdown",
   "id": "1ac051db",
   "metadata": {},
   "source": [
    "## XGB"
   ]
  },
  {
   "cell_type": "code",
   "execution_count": 90,
   "id": "5daafe18",
   "metadata": {},
   "outputs": [
    {
     "name": "stdout",
     "output_type": "stream",
     "text": [
      "R2Score:  0.9367581269819607\n",
      "MAE:  0.06690592301402105\n"
     ]
    },
    {
     "name": "stderr",
     "output_type": "stream",
     "text": [
      "C:\\Users\\Neeraj\\AppData\\Local\\Programs\\Python\\Python310\\lib\\site-packages\\sklearn\\preprocessing\\_encoders.py:188: UserWarning: Found unknown categories in columns [0, 1, 2] during transform. These unknown categories will be encoded as all zeros\n",
      "  warnings.warn(\n"
     ]
    }
   ],
   "source": [
    "step1 = ColumnTransformer(transformers=[\n",
    "    ('col_tnf1',OneHotEncoder(sparse=False,drop='first',handle_unknown='ignore'),[0,1,2])\n",
    "],remainder='passthrough')\n",
    "\n",
    "step2 = XGBRegressor(n_estimators=200, learning_rate=0.15, max_depth=15)\n",
    "\n",
    "pipe = Pipeline([\n",
    "    ('step1',step1),\n",
    "    ('step2',step2)\n",
    "])\n",
    "\n",
    "pipe.fit(X_train,y_train)\n",
    "\n",
    "y_pred = pipe.predict(X_test)\n",
    "\n",
    "print('R2Score: ',r2_score(y_test,y_pred))\n",
    "print('MAE: ',mean_absolute_error(y_test,y_pred))"
   ]
  },
  {
   "cell_type": "markdown",
   "id": "d374b192",
   "metadata": {},
   "source": [
    "## Exporting the model"
   ]
  },
  {
   "cell_type": "code",
   "execution_count": 91,
   "id": "6dfdee2a",
   "metadata": {},
   "outputs": [],
   "source": [
    "import pickle\n",
    "pickle.dump(pipe,open('pipe.pkl','wb'))\n",
    "pickle.dump(new_df,open('df.pkl','wb'))"
   ]
  },
  {
   "cell_type": "code",
   "execution_count": null,
   "id": "b06778ad",
   "metadata": {},
   "outputs": [],
   "source": []
  }
 ],
 "metadata": {
  "kernelspec": {
   "display_name": "Python 3 (ipykernel)",
   "language": "python",
   "name": "python3"
  },
  "language_info": {
   "codemirror_mode": {
    "name": "ipython",
    "version": 3
   },
   "file_extension": ".py",
   "mimetype": "text/x-python",
   "name": "python",
   "nbconvert_exporter": "python",
   "pygments_lexer": "ipython3",
   "version": "3.10.5"
  }
 },
 "nbformat": 4,
 "nbformat_minor": 5
}
